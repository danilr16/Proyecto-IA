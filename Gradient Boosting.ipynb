{
 "cells": [
  {
   "cell_type": "markdown",
   "id": "ade64fbc-da77-4d43-8998-fb0d5c96ec2b",
   "metadata": {},
   "source": [
    "<h1 style='text-align: center;'><b>Ensamble Secuencial de Modelos Predictivos</b></h1>\n",
    "<h3 style='text-align: center;'>Inteligencia Artificial</h3>\n",
    "<h3 style='text-align: center;'>Grado en Ingeniería Informática - Ingeniería del Software</h3>\n",
    "<h3 style='text-align: center;'>Universidad de Sevilla</h3>"
   ]
  },
  {
   "cell_type": "markdown",
   "id": "678157b1-b30a-428b-9e13-5b817c2a15c8",
   "metadata": {},
   "source": [
    "<h3><b>Implementación de los Algoritmos</b></h3>"
   ]
  },
  {
   "cell_type": "markdown",
   "id": "04619060-2d45-4ca7-aee9-31e80a942780",
   "metadata": {},
   "source": [
    "En esta sección se proporcionan las diferentes funciones y clases desarrolladas de ensamble secuencial de modelos predictivos."
   ]
  },
  {
   "cell_type": "code",
   "execution_count": 1,
   "id": "c8e86939-1da5-4bd9-ad07-7e5feb257d03",
   "metadata": {},
   "outputs": [],
   "source": [
    "from sklearn.base import BaseEstimator, clone\n",
    "from sklearn.neighbors import KNeighborsRegressor\n",
    "from sklearn.tree import DecisionTreeRegressor\n",
    "from sklearn.model_selection import train_test_split\n",
    "from sklearn.preprocessing import OrdinalEncoder\n",
    "from sklearn.metrics import r2_score, mean_absolute_error\n",
    "from sklearn.model_selection import cross_validate\n",
    "from sklearn.model_selection import GridSearchCV\n",
    "from sklearn.preprocessing import MinMaxScaler\n",
    "import numpy as np\n",
    "import pandas as pd"
   ]
  },
  {
   "cell_type": "markdown",
   "id": "00926fe3-9bd8-4cb8-8c76-3a3d25e22246",
   "metadata": {},
   "source": [
    "Se ha establecido una semilla para facilitar la reproducción de los diferentes experimentos."
   ]
  },
  {
   "cell_type": "code",
   "execution_count": 2,
   "id": "c6bae904-0abe-4046-9769-7068ffd8c543",
   "metadata": {},
   "outputs": [],
   "source": [
    "np.random.seed(357823)"
   ]
  },
  {
   "cell_type": "markdown",
   "id": "32ad66a5-c15a-4b78-ac01-273f9a0c7e21",
   "metadata": {},
   "source": [
    "La siguiente función es de gran utilidad para la comprobación de condiciones y será usada a lo largo de toda la implementación de los diferentes algoritmos."
   ]
  },
  {
   "cell_type": "code",
   "execution_count": 3,
   "id": "87789a05-119d-46e4-a18a-7dde5351a36e",
   "metadata": {},
   "outputs": [],
   "source": [
    "def checkCondition(condition, message=None):\n",
    "    if (not condition):\n",
    "        raise Exception(message)"
   ]
  },
  {
   "cell_type": "markdown",
   "id": "5c30072a-c657-4ed1-a7e1-5e977a6ed3a3",
   "metadata": {},
   "source": [
    "Para facilitar el uso de los diferentes algoritmos de **potenciación del gradiente (Gradient Boosting)** para tareas de regresión, se ha encapsulado toda la funcionalidad en la clase **SequentialRegressor**. Dicha clase necesita de los siguientes parámetros de entrada para su correcto funcionamiento:\n",
    "- **Estimator:** modelo predictivo que será utilizado para el entrenamiento y ensamblaje secuencial. Dicho modelo debe ser de la biblioteca [Scikit-learn](http://scikit-learn.org) o en su defecto un modelo que debe heredar de la clase [BaseEstimator](https://scikit-learn.org/stable/modules/generated/sklearn.base.BaseEstimator.html).\n",
    "- **N_estimators:** número de modelos predictivos ensamblados secuencialmente.\n",
    "- **Sample_size:** proporción de ejemplos del conjunto de entrenamiento que se ultizará para entrenar cada modelo.\n",
    "- **Lr:** parámetro de aprendizaje del meta-modelo.\n",
    "- **Hyperparameters:** hiperparámetros de los modelos predictivos."
   ]
  },
  {
   "cell_type": "markdown",
   "id": "a1be7639-ae0f-47cc-99c1-f9b9c23ba514",
   "metadata": {},
   "source": [
    "Las funciones que implementa la clase SequentialRegressor para el ensamble secuencial de modelos predictivos son las siguientes:\n",
    "- **Fit:** realiza el entrenamiento de los modelos por potenciación del gradiente. Recibe los atributos y la variable objetivo que constituyen el conjunto de entrenamiento del modelo. Devuelve la lista de los modelos predictivos entrenados.\n",
    "- **Predict:** realiza la predicción del meta-modelo para unos atributos dados, a partir de las predicciones de cada uno de los modelos en secuencia entrenados. Devuelve la predicción final del meta-modelo.\n",
    "- **Evaluate:** realiza una validación cruzada con k-pliegues del meta-modelo entrenado. Recibe los atributos y la variable objetivo que constituyen el conjunto de entrenamiento del modelo y el número de pliegues a utilizar para la validación cruzada. Devuelve el rendimiento medio del meta-modelo."
   ]
  },
  {
   "cell_type": "code",
   "execution_count": 4,
   "id": "c3640299-1c2f-4da6-8075-54df05d4b50d",
   "metadata": {},
   "outputs": [],
   "source": [
    "class SequentialRegressor(BaseEstimator):\n",
    "    \n",
    "    def __init__(self, estimator, n_estimators=1,\n",
    "                sample_size=1., lr=1., hyperparameters=None):\n",
    "        checkCondition(isinstance(estimator, BaseEstimator), \"Estimator must be an instance of Scikit-learn class\")\n",
    "        checkCondition(n_estimators >= 1, \"Number of estimators must be bigger or equals to 1\")\n",
    "        checkCondition(0. < sample_size <= 1., \"The sample size must be between 0 (excluded) and 1\")\n",
    "        if hyperparameters:\n",
    "            estimator.set_params(**hyperparameters)\n",
    "        self.estimator = estimator\n",
    "        self.n_estimators = n_estimators\n",
    "        self.sample_size = sample_size\n",
    "        self.lr = lr\n",
    "        self.hyperparameters = hyperparameters\n",
    "\n",
    "    def fit(self, attributes, objective):\n",
    "        attributes = np.asarray(attributes)\n",
    "        objective = np.asarray(objective).ravel()\n",
    "        checkCondition(attributes.size > 0, \"The attributes can't be empty\")\n",
    "        checkCondition(objective.size > 0, \"The objective can't be empty\")\n",
    "\n",
    "        rows = attributes.shape[0]\n",
    "        prediction = np.zeros(rows)\n",
    "        self.models = []\n",
    "\n",
    "        for i in range(self.n_estimators): # Para cada modelo a entrenar\n",
    "            remainder_i = objective - prediction # Variable objetivo es el residuo\n",
    "            n_samples_i = int(self.sample_size * rows)\n",
    "            selected = np.random.choice(rows, size=n_samples_i, replace=False) # Selección aleatoria del conjunto de entrenamiento\n",
    "            samples_i = attributes[selected]\n",
    "            objective_i = remainder_i[selected]\n",
    "            model = clone(self.estimator) # Aseguramos así que utilizamos siempre un modelo nuevo no entrenado\n",
    "            model.fit(samples_i, objective_i)\n",
    "            self.models.append(model)\n",
    "            prediction_i = model.predict(attributes)\n",
    "            prediction = prediction + self.lr * prediction_i # Actualizamos la predicción para el residuo de la siguiente iteración\n",
    "        return self.models\n",
    "\n",
    "    def predict(self, attributes):\n",
    "        checkCondition(hasattr(self, 'models') and len(self.models) > 0, \"This SequentialRegressor instance is not fitted yet.\" +\n",
    "                       \"Call 'fit' with appropriate arguments before using this estimator\")\n",
    "        attributes = np.asarray(attributes)\n",
    "        checkCondition(attributes.size > 0, \"The attributes can't be empty\")\n",
    "        \n",
    "        rows = attributes.shape[0]\n",
    "        predictions = np.zeros(rows)\n",
    "        for model in self.models: # Para cada modelo entrenado\n",
    "            predictions += self.lr * model.predict(attributes) # Suma acumulada de cada predicción con suavizado\n",
    "        return predictions\n",
    "\n",
    "    def evaluate(self, attributes, objective, k):\n",
    "        checkCondition(k >= 1, \"The number of partitions must be bigger or equals to 1\")\n",
    "        results = cross_validate(self, attributes, objective, scoring=['r2', 'neg_mean_absolute_error'], cv=k)\n",
    "        return {'r2': results['test_r2'].mean(), 'neg_mean_absolute_error': results['test_neg_mean_absolute_error'].mean()}"
   ]
  },
  {
   "cell_type": "markdown",
   "id": "9e0e3fcd-02ea-4b9c-8983-fead0be6d24d",
   "metadata": {},
   "source": [
    "<h2>Experimentación</h2>"
   ]
  },
  {
   "cell_type": "markdown",
   "id": "b9330728-3f35-4e5a-8080-71c4257cf969",
   "metadata": {},
   "source": [
    "En esta sección se proporcionan los diferentes experimentos realizados para la comprobación del correcto funcionamiento de los diferentes algoritmos y la exploración del espacio de hiperparámetros de estos."
   ]
  },
  {
   "cell_type": "markdown",
   "id": "07411032-ee78-4898-a479-293226807884",
   "metadata": {},
   "source": [
    "<h4>Tratamiento de los Conjuntos de Datos</h4>"
   ]
  },
  {
   "cell_type": "markdown",
   "id": "20f96882-30e4-42f9-9416-d4fc4f0cbfdd",
   "metadata": {},
   "source": [
    "Primero extraemos el contenido de los CSVs propuestos y separamos el contenido de estos en los atributos y variable objetivo para su correcto funcionamiento con la clase propuesta. \n",
    "A continuación es necesario tratar debidamente estos datos. Para el archivo que contiene la información sobre el precio de viviendas, codificamos las columnas que tienen valores en formato texto a variables númericas que las representen y finalmente normalizamos todas las columnas de entrenamiento (excluimos la variable objetivo), para que todos los valores se encuentren en el rango [0,1]."
   ]
  },
  {
   "cell_type": "code",
   "execution_count": 5,
   "id": "7d4a8362-0594-44eb-99be-410c07c4fca4",
   "metadata": {},
   "outputs": [
    {
     "data": {
      "text/html": [
       "<div>\n",
       "<style scoped>\n",
       "    .dataframe tbody tr th:only-of-type {\n",
       "        vertical-align: middle;\n",
       "    }\n",
       "\n",
       "    .dataframe tbody tr th {\n",
       "        vertical-align: top;\n",
       "    }\n",
       "\n",
       "    .dataframe thead th {\n",
       "        text-align: right;\n",
       "    }\n",
       "</style>\n",
       "<table border=\"1\" class=\"dataframe\">\n",
       "  <thead>\n",
       "    <tr style=\"text-align: right;\">\n",
       "      <th></th>\n",
       "      <th>GarageCars</th>\n",
       "      <th>Condition2</th>\n",
       "      <th>YearBuilt</th>\n",
       "      <th>GarageYrBlt</th>\n",
       "      <th>LandContour</th>\n",
       "      <th>LowQualFinSF</th>\n",
       "      <th>HouseStyle</th>\n",
       "      <th>GarageType</th>\n",
       "      <th>MSSubClass</th>\n",
       "      <th>WoodDeckSF</th>\n",
       "      <th>...</th>\n",
       "      <th>MiscVal</th>\n",
       "      <th>BsmtExposure</th>\n",
       "      <th>OpenPorchSF</th>\n",
       "      <th>ExterCond</th>\n",
       "      <th>Fireplaces</th>\n",
       "      <th>FullBath</th>\n",
       "      <th>BsmtQual</th>\n",
       "      <th>MiscFeature</th>\n",
       "      <th>PoolQC</th>\n",
       "      <th>SalePrice</th>\n",
       "    </tr>\n",
       "  </thead>\n",
       "  <tbody>\n",
       "    <tr>\n",
       "      <th>0</th>\n",
       "      <td>2</td>\n",
       "      <td>Norm</td>\n",
       "      <td>1962</td>\n",
       "      <td>1977.0</td>\n",
       "      <td>Lvl</td>\n",
       "      <td>0</td>\n",
       "      <td>1Story</td>\n",
       "      <td>Detchd</td>\n",
       "      <td>20</td>\n",
       "      <td>0</td>\n",
       "      <td>...</td>\n",
       "      <td>0</td>\n",
       "      <td>none</td>\n",
       "      <td>0</td>\n",
       "      <td>TA</td>\n",
       "      <td>0</td>\n",
       "      <td>1</td>\n",
       "      <td>TA</td>\n",
       "      <td>none</td>\n",
       "      <td>none</td>\n",
       "      <td>132000</td>\n",
       "    </tr>\n",
       "    <tr>\n",
       "      <th>1</th>\n",
       "      <td>0</td>\n",
       "      <td>Norm</td>\n",
       "      <td>1914</td>\n",
       "      <td>0.0</td>\n",
       "      <td>Lvl</td>\n",
       "      <td>0</td>\n",
       "      <td>2.5Unf</td>\n",
       "      <td>none</td>\n",
       "      <td>75</td>\n",
       "      <td>0</td>\n",
       "      <td>...</td>\n",
       "      <td>0</td>\n",
       "      <td>none</td>\n",
       "      <td>291</td>\n",
       "      <td>TA</td>\n",
       "      <td>1</td>\n",
       "      <td>2</td>\n",
       "      <td>TA</td>\n",
       "      <td>none</td>\n",
       "      <td>none</td>\n",
       "      <td>128000</td>\n",
       "    </tr>\n",
       "    <tr>\n",
       "      <th>2</th>\n",
       "      <td>2</td>\n",
       "      <td>Norm</td>\n",
       "      <td>1999</td>\n",
       "      <td>1999.0</td>\n",
       "      <td>Lvl</td>\n",
       "      <td>0</td>\n",
       "      <td>1Story</td>\n",
       "      <td>Attchd</td>\n",
       "      <td>20</td>\n",
       "      <td>0</td>\n",
       "      <td>...</td>\n",
       "      <td>0</td>\n",
       "      <td>Av</td>\n",
       "      <td>35</td>\n",
       "      <td>TA</td>\n",
       "      <td>0</td>\n",
       "      <td>2</td>\n",
       "      <td>Gd</td>\n",
       "      <td>none</td>\n",
       "      <td>none</td>\n",
       "      <td>192000</td>\n",
       "    </tr>\n",
       "    <tr>\n",
       "      <th>3</th>\n",
       "      <td>1</td>\n",
       "      <td>Norm</td>\n",
       "      <td>1948</td>\n",
       "      <td>1948.0</td>\n",
       "      <td>Bnk</td>\n",
       "      <td>0</td>\n",
       "      <td>2Story</td>\n",
       "      <td>Attchd</td>\n",
       "      <td>20</td>\n",
       "      <td>103</td>\n",
       "      <td>...</td>\n",
       "      <td>0</td>\n",
       "      <td>none</td>\n",
       "      <td>0</td>\n",
       "      <td>Gd</td>\n",
       "      <td>0</td>\n",
       "      <td>3</td>\n",
       "      <td>TA</td>\n",
       "      <td>none</td>\n",
       "      <td>none</td>\n",
       "      <td>225000</td>\n",
       "    </tr>\n",
       "    <tr>\n",
       "      <th>4</th>\n",
       "      <td>2</td>\n",
       "      <td>Norm</td>\n",
       "      <td>1950</td>\n",
       "      <td>1950.0</td>\n",
       "      <td>Lvl</td>\n",
       "      <td>0</td>\n",
       "      <td>1Story</td>\n",
       "      <td>Detchd</td>\n",
       "      <td>20</td>\n",
       "      <td>0</td>\n",
       "      <td>...</td>\n",
       "      <td>0</td>\n",
       "      <td>none</td>\n",
       "      <td>29</td>\n",
       "      <td>TA</td>\n",
       "      <td>0</td>\n",
       "      <td>1</td>\n",
       "      <td>none</td>\n",
       "      <td>none</td>\n",
       "      <td>none</td>\n",
       "      <td>109900</td>\n",
       "    </tr>\n",
       "  </tbody>\n",
       "</table>\n",
       "<p>5 rows × 38 columns</p>\n",
       "</div>"
      ],
      "text/plain": [
       "   GarageCars Condition2  YearBuilt  GarageYrBlt LandContour  LowQualFinSF  \\\n",
       "0           2       Norm       1962       1977.0         Lvl             0   \n",
       "1           0       Norm       1914          0.0         Lvl             0   \n",
       "2           2       Norm       1999       1999.0         Lvl             0   \n",
       "3           1       Norm       1948       1948.0         Bnk             0   \n",
       "4           2       Norm       1950       1950.0         Lvl             0   \n",
       "\n",
       "  HouseStyle GarageType  MSSubClass  WoodDeckSF  ... MiscVal  BsmtExposure  \\\n",
       "0     1Story     Detchd          20           0  ...       0          none   \n",
       "1     2.5Unf       none          75           0  ...       0          none   \n",
       "2     1Story     Attchd          20           0  ...       0            Av   \n",
       "3     2Story     Attchd          20         103  ...       0          none   \n",
       "4     1Story     Detchd          20           0  ...       0          none   \n",
       "\n",
       "  OpenPorchSF ExterCond  Fireplaces  FullBath BsmtQual  MiscFeature PoolQC  \\\n",
       "0           0        TA           0         1       TA         none   none   \n",
       "1         291        TA           1         2       TA         none   none   \n",
       "2          35        TA           0         2       Gd         none   none   \n",
       "3           0        Gd           0         3       TA         none   none   \n",
       "4          29        TA           0         1     none         none   none   \n",
       "\n",
       "  SalePrice  \n",
       "0    132000  \n",
       "1    128000  \n",
       "2    192000  \n",
       "3    225000  \n",
       "4    109900  \n",
       "\n",
       "[5 rows x 38 columns]"
      ]
     },
     "execution_count": 5,
     "metadata": {},
     "output_type": "execute_result"
    }
   ],
   "source": [
    "houses = pd.read_csv(\"house_prices.csv\") \n",
    "houses_attributes = houses.iloc[:,:-1] \n",
    "houses_objective = houses.iloc[:,-1:] \n",
    "houses.head()"
   ]
  },
  {
   "cell_type": "code",
   "execution_count": 6,
   "id": "10a49ca1-0299-4aae-bcae-8ff57d553710",
   "metadata": {},
   "outputs": [
    {
     "data": {
      "text/html": [
       "<div>\n",
       "<style scoped>\n",
       "    .dataframe tbody tr th:only-of-type {\n",
       "        vertical-align: middle;\n",
       "    }\n",
       "\n",
       "    .dataframe tbody tr th {\n",
       "        vertical-align: top;\n",
       "    }\n",
       "\n",
       "    .dataframe thead th {\n",
       "        text-align: right;\n",
       "    }\n",
       "</style>\n",
       "<table border=\"1\" class=\"dataframe\">\n",
       "  <thead>\n",
       "    <tr style=\"text-align: right;\">\n",
       "      <th></th>\n",
       "      <th>GarageCars</th>\n",
       "      <th>Condition2</th>\n",
       "      <th>YearBuilt</th>\n",
       "      <th>GarageYrBlt</th>\n",
       "      <th>LandContour</th>\n",
       "      <th>LowQualFinSF</th>\n",
       "      <th>HouseStyle</th>\n",
       "      <th>GarageType</th>\n",
       "      <th>MSSubClass</th>\n",
       "      <th>WoodDeckSF</th>\n",
       "      <th>...</th>\n",
       "      <th>SaleType</th>\n",
       "      <th>MiscVal</th>\n",
       "      <th>BsmtExposure</th>\n",
       "      <th>OpenPorchSF</th>\n",
       "      <th>ExterCond</th>\n",
       "      <th>Fireplaces</th>\n",
       "      <th>FullBath</th>\n",
       "      <th>BsmtQual</th>\n",
       "      <th>MiscFeature</th>\n",
       "      <th>PoolQC</th>\n",
       "    </tr>\n",
       "  </thead>\n",
       "  <tbody>\n",
       "    <tr>\n",
       "      <th>0</th>\n",
       "      <td>2</td>\n",
       "      <td>2.0</td>\n",
       "      <td>1962</td>\n",
       "      <td>1977.0</td>\n",
       "      <td>3.0</td>\n",
       "      <td>0</td>\n",
       "      <td>2.0</td>\n",
       "      <td>5.0</td>\n",
       "      <td>20</td>\n",
       "      <td>0</td>\n",
       "      <td>...</td>\n",
       "      <td>7.0</td>\n",
       "      <td>0</td>\n",
       "      <td>3.0</td>\n",
       "      <td>0</td>\n",
       "      <td>3.0</td>\n",
       "      <td>0</td>\n",
       "      <td>1</td>\n",
       "      <td>3.0</td>\n",
       "      <td>4.0</td>\n",
       "      <td>2.0</td>\n",
       "    </tr>\n",
       "    <tr>\n",
       "      <th>1</th>\n",
       "      <td>0</td>\n",
       "      <td>2.0</td>\n",
       "      <td>1914</td>\n",
       "      <td>0.0</td>\n",
       "      <td>3.0</td>\n",
       "      <td>0</td>\n",
       "      <td>4.0</td>\n",
       "      <td>6.0</td>\n",
       "      <td>75</td>\n",
       "      <td>0</td>\n",
       "      <td>...</td>\n",
       "      <td>7.0</td>\n",
       "      <td>0</td>\n",
       "      <td>3.0</td>\n",
       "      <td>291</td>\n",
       "      <td>3.0</td>\n",
       "      <td>1</td>\n",
       "      <td>2</td>\n",
       "      <td>3.0</td>\n",
       "      <td>4.0</td>\n",
       "      <td>2.0</td>\n",
       "    </tr>\n",
       "    <tr>\n",
       "      <th>2</th>\n",
       "      <td>2</td>\n",
       "      <td>2.0</td>\n",
       "      <td>1999</td>\n",
       "      <td>1999.0</td>\n",
       "      <td>3.0</td>\n",
       "      <td>0</td>\n",
       "      <td>2.0</td>\n",
       "      <td>1.0</td>\n",
       "      <td>20</td>\n",
       "      <td>0</td>\n",
       "      <td>...</td>\n",
       "      <td>7.0</td>\n",
       "      <td>0</td>\n",
       "      <td>0.0</td>\n",
       "      <td>35</td>\n",
       "      <td>3.0</td>\n",
       "      <td>0</td>\n",
       "      <td>2</td>\n",
       "      <td>2.0</td>\n",
       "      <td>4.0</td>\n",
       "      <td>2.0</td>\n",
       "    </tr>\n",
       "    <tr>\n",
       "      <th>3</th>\n",
       "      <td>1</td>\n",
       "      <td>2.0</td>\n",
       "      <td>1948</td>\n",
       "      <td>1948.0</td>\n",
       "      <td>0.0</td>\n",
       "      <td>0</td>\n",
       "      <td>5.0</td>\n",
       "      <td>1.0</td>\n",
       "      <td>20</td>\n",
       "      <td>103</td>\n",
       "      <td>...</td>\n",
       "      <td>7.0</td>\n",
       "      <td>0</td>\n",
       "      <td>3.0</td>\n",
       "      <td>0</td>\n",
       "      <td>1.0</td>\n",
       "      <td>0</td>\n",
       "      <td>3</td>\n",
       "      <td>3.0</td>\n",
       "      <td>4.0</td>\n",
       "      <td>2.0</td>\n",
       "    </tr>\n",
       "    <tr>\n",
       "      <th>4</th>\n",
       "      <td>2</td>\n",
       "      <td>2.0</td>\n",
       "      <td>1950</td>\n",
       "      <td>1950.0</td>\n",
       "      <td>3.0</td>\n",
       "      <td>0</td>\n",
       "      <td>2.0</td>\n",
       "      <td>5.0</td>\n",
       "      <td>20</td>\n",
       "      <td>0</td>\n",
       "      <td>...</td>\n",
       "      <td>7.0</td>\n",
       "      <td>0</td>\n",
       "      <td>3.0</td>\n",
       "      <td>29</td>\n",
       "      <td>3.0</td>\n",
       "      <td>0</td>\n",
       "      <td>1</td>\n",
       "      <td>4.0</td>\n",
       "      <td>4.0</td>\n",
       "      <td>2.0</td>\n",
       "    </tr>\n",
       "  </tbody>\n",
       "</table>\n",
       "<p>5 rows × 37 columns</p>\n",
       "</div>"
      ],
      "text/plain": [
       "   GarageCars  Condition2  YearBuilt  GarageYrBlt  LandContour  LowQualFinSF  \\\n",
       "0           2         2.0       1962       1977.0          3.0             0   \n",
       "1           0         2.0       1914          0.0          3.0             0   \n",
       "2           2         2.0       1999       1999.0          3.0             0   \n",
       "3           1         2.0       1948       1948.0          0.0             0   \n",
       "4           2         2.0       1950       1950.0          3.0             0   \n",
       "\n",
       "   HouseStyle  GarageType  MSSubClass  WoodDeckSF  ...  SaleType  MiscVal  \\\n",
       "0         2.0         5.0          20           0  ...       7.0        0   \n",
       "1         4.0         6.0          75           0  ...       7.0        0   \n",
       "2         2.0         1.0          20           0  ...       7.0        0   \n",
       "3         5.0         1.0          20         103  ...       7.0        0   \n",
       "4         2.0         5.0          20           0  ...       7.0        0   \n",
       "\n",
       "   BsmtExposure  OpenPorchSF  ExterCond  Fireplaces  FullBath  BsmtQual  \\\n",
       "0           3.0            0        3.0           0         1       3.0   \n",
       "1           3.0          291        3.0           1         2       3.0   \n",
       "2           0.0           35        3.0           0         2       2.0   \n",
       "3           3.0            0        1.0           0         3       3.0   \n",
       "4           3.0           29        3.0           0         1       4.0   \n",
       "\n",
       "   MiscFeature  PoolQC  \n",
       "0          4.0     2.0  \n",
       "1          4.0     2.0  \n",
       "2          4.0     2.0  \n",
       "3          4.0     2.0  \n",
       "4          4.0     2.0  \n",
       "\n",
       "[5 rows x 37 columns]"
      ]
     },
     "execution_count": 6,
     "metadata": {},
     "output_type": "execute_result"
    }
   ],
   "source": [
    "houses_discrete_attributes = houses_attributes.select_dtypes(include=['object', 'string']).columns \n",
    "encoder = OrdinalEncoder() \n",
    "houses_attributes[houses_discrete_attributes] = encoder.fit_transform(houses_attributes[houses_discrete_attributes])\n",
    "houses_attributes.head()"
   ]
  },
  {
   "cell_type": "code",
   "execution_count": 7,
   "id": "9e4834a7-4440-43ac-acb2-678b9c7e7d85",
   "metadata": {},
   "outputs": [
    {
     "data": {
      "text/html": [
       "<div>\n",
       "<style scoped>\n",
       "    .dataframe tbody tr th:only-of-type {\n",
       "        vertical-align: middle;\n",
       "    }\n",
       "\n",
       "    .dataframe tbody tr th {\n",
       "        vertical-align: top;\n",
       "    }\n",
       "\n",
       "    .dataframe thead th {\n",
       "        text-align: right;\n",
       "    }\n",
       "</style>\n",
       "<table border=\"1\" class=\"dataframe\">\n",
       "  <thead>\n",
       "    <tr style=\"text-align: right;\">\n",
       "      <th></th>\n",
       "      <th>GarageCars</th>\n",
       "      <th>Condition2</th>\n",
       "      <th>YearBuilt</th>\n",
       "      <th>GarageYrBlt</th>\n",
       "      <th>LandContour</th>\n",
       "      <th>LowQualFinSF</th>\n",
       "      <th>HouseStyle</th>\n",
       "      <th>GarageType</th>\n",
       "      <th>MSSubClass</th>\n",
       "      <th>WoodDeckSF</th>\n",
       "      <th>...</th>\n",
       "      <th>SaleType</th>\n",
       "      <th>MiscVal</th>\n",
       "      <th>BsmtExposure</th>\n",
       "      <th>OpenPorchSF</th>\n",
       "      <th>ExterCond</th>\n",
       "      <th>Fireplaces</th>\n",
       "      <th>FullBath</th>\n",
       "      <th>BsmtQual</th>\n",
       "      <th>MiscFeature</th>\n",
       "      <th>PoolQC</th>\n",
       "    </tr>\n",
       "  </thead>\n",
       "  <tbody>\n",
       "    <tr>\n",
       "      <th>0</th>\n",
       "      <td>0.50</td>\n",
       "      <td>0.4</td>\n",
       "      <td>0.649254</td>\n",
       "      <td>0.984072</td>\n",
       "      <td>1.0</td>\n",
       "      <td>0.0</td>\n",
       "      <td>0.285714</td>\n",
       "      <td>0.833333</td>\n",
       "      <td>0.000000</td>\n",
       "      <td>0.000000</td>\n",
       "      <td>...</td>\n",
       "      <td>1.0</td>\n",
       "      <td>0.0</td>\n",
       "      <td>1.0</td>\n",
       "      <td>0.000000</td>\n",
       "      <td>1.000000</td>\n",
       "      <td>0.000000</td>\n",
       "      <td>0.333333</td>\n",
       "      <td>0.75</td>\n",
       "      <td>1.0</td>\n",
       "      <td>1.0</td>\n",
       "    </tr>\n",
       "    <tr>\n",
       "      <th>1</th>\n",
       "      <td>0.00</td>\n",
       "      <td>0.4</td>\n",
       "      <td>0.291045</td>\n",
       "      <td>0.000000</td>\n",
       "      <td>1.0</td>\n",
       "      <td>0.0</td>\n",
       "      <td>0.571429</td>\n",
       "      <td>1.000000</td>\n",
       "      <td>0.323529</td>\n",
       "      <td>0.000000</td>\n",
       "      <td>...</td>\n",
       "      <td>1.0</td>\n",
       "      <td>0.0</td>\n",
       "      <td>1.0</td>\n",
       "      <td>0.716749</td>\n",
       "      <td>1.000000</td>\n",
       "      <td>0.333333</td>\n",
       "      <td>0.666667</td>\n",
       "      <td>0.75</td>\n",
       "      <td>1.0</td>\n",
       "      <td>1.0</td>\n",
       "    </tr>\n",
       "    <tr>\n",
       "      <th>2</th>\n",
       "      <td>0.50</td>\n",
       "      <td>0.4</td>\n",
       "      <td>0.925373</td>\n",
       "      <td>0.995022</td>\n",
       "      <td>1.0</td>\n",
       "      <td>0.0</td>\n",
       "      <td>0.285714</td>\n",
       "      <td>0.166667</td>\n",
       "      <td>0.000000</td>\n",
       "      <td>0.000000</td>\n",
       "      <td>...</td>\n",
       "      <td>1.0</td>\n",
       "      <td>0.0</td>\n",
       "      <td>0.0</td>\n",
       "      <td>0.086207</td>\n",
       "      <td>1.000000</td>\n",
       "      <td>0.000000</td>\n",
       "      <td>0.666667</td>\n",
       "      <td>0.50</td>\n",
       "      <td>1.0</td>\n",
       "      <td>1.0</td>\n",
       "    </tr>\n",
       "    <tr>\n",
       "      <th>3</th>\n",
       "      <td>0.25</td>\n",
       "      <td>0.4</td>\n",
       "      <td>0.544776</td>\n",
       "      <td>0.969637</td>\n",
       "      <td>0.0</td>\n",
       "      <td>0.0</td>\n",
       "      <td>0.714286</td>\n",
       "      <td>0.166667</td>\n",
       "      <td>0.000000</td>\n",
       "      <td>0.162205</td>\n",
       "      <td>...</td>\n",
       "      <td>1.0</td>\n",
       "      <td>0.0</td>\n",
       "      <td>1.0</td>\n",
       "      <td>0.000000</td>\n",
       "      <td>0.333333</td>\n",
       "      <td>0.000000</td>\n",
       "      <td>1.000000</td>\n",
       "      <td>0.75</td>\n",
       "      <td>1.0</td>\n",
       "      <td>1.0</td>\n",
       "    </tr>\n",
       "    <tr>\n",
       "      <th>4</th>\n",
       "      <td>0.50</td>\n",
       "      <td>0.4</td>\n",
       "      <td>0.559701</td>\n",
       "      <td>0.970632</td>\n",
       "      <td>1.0</td>\n",
       "      <td>0.0</td>\n",
       "      <td>0.285714</td>\n",
       "      <td>0.833333</td>\n",
       "      <td>0.000000</td>\n",
       "      <td>0.000000</td>\n",
       "      <td>...</td>\n",
       "      <td>1.0</td>\n",
       "      <td>0.0</td>\n",
       "      <td>1.0</td>\n",
       "      <td>0.071429</td>\n",
       "      <td>1.000000</td>\n",
       "      <td>0.000000</td>\n",
       "      <td>0.333333</td>\n",
       "      <td>1.00</td>\n",
       "      <td>1.0</td>\n",
       "      <td>1.0</td>\n",
       "    </tr>\n",
       "  </tbody>\n",
       "</table>\n",
       "<p>5 rows × 37 columns</p>\n",
       "</div>"
      ],
      "text/plain": [
       "   GarageCars  Condition2  YearBuilt  GarageYrBlt  LandContour  LowQualFinSF  \\\n",
       "0        0.50         0.4   0.649254     0.984072          1.0           0.0   \n",
       "1        0.00         0.4   0.291045     0.000000          1.0           0.0   \n",
       "2        0.50         0.4   0.925373     0.995022          1.0           0.0   \n",
       "3        0.25         0.4   0.544776     0.969637          0.0           0.0   \n",
       "4        0.50         0.4   0.559701     0.970632          1.0           0.0   \n",
       "\n",
       "   HouseStyle  GarageType  MSSubClass  WoodDeckSF  ...  SaleType  MiscVal  \\\n",
       "0    0.285714    0.833333    0.000000    0.000000  ...       1.0      0.0   \n",
       "1    0.571429    1.000000    0.323529    0.000000  ...       1.0      0.0   \n",
       "2    0.285714    0.166667    0.000000    0.000000  ...       1.0      0.0   \n",
       "3    0.714286    0.166667    0.000000    0.162205  ...       1.0      0.0   \n",
       "4    0.285714    0.833333    0.000000    0.000000  ...       1.0      0.0   \n",
       "\n",
       "   BsmtExposure  OpenPorchSF  ExterCond  Fireplaces  FullBath  BsmtQual  \\\n",
       "0           1.0     0.000000   1.000000    0.000000  0.333333      0.75   \n",
       "1           1.0     0.716749   1.000000    0.333333  0.666667      0.75   \n",
       "2           0.0     0.086207   1.000000    0.000000  0.666667      0.50   \n",
       "3           1.0     0.000000   0.333333    0.000000  1.000000      0.75   \n",
       "4           1.0     0.071429   1.000000    0.000000  0.333333      1.00   \n",
       "\n",
       "   MiscFeature  PoolQC  \n",
       "0          1.0     1.0  \n",
       "1          1.0     1.0  \n",
       "2          1.0     1.0  \n",
       "3          1.0     1.0  \n",
       "4          1.0     1.0  \n",
       "\n",
       "[5 rows x 37 columns]"
      ]
     },
     "execution_count": 7,
     "metadata": {},
     "output_type": "execute_result"
    }
   ],
   "source": [
    "normalizer = MinMaxScaler(feature_range=(0, 1)) \n",
    "houses_attributes = pd.DataFrame(\n",
    "    normalizer.fit_transform(houses_attributes), \n",
    "    columns=houses_attributes.columns ) \n",
    "houses_attributes.head()"
   ]
  },
  {
   "cell_type": "markdown",
   "id": "aba54590-2e1c-4576-8152-294cd1b396ea",
   "metadata": {},
   "source": [
    "Para el archivo que contiene la información sobre la enfermedad de Parkinson el tratamiento es el mismo, sin embargo no es necesario el paso de codificación ya que todas las columnas presentan valores númericos."
   ]
  },
  {
   "cell_type": "code",
   "execution_count": 8,
   "id": "dbd5fca7-1b91-4343-a591-2475645f0cb3",
   "metadata": {},
   "outputs": [
    {
     "data": {
      "text/html": [
       "<div>\n",
       "<style scoped>\n",
       "    .dataframe tbody tr th:only-of-type {\n",
       "        vertical-align: middle;\n",
       "    }\n",
       "\n",
       "    .dataframe tbody tr th {\n",
       "        vertical-align: top;\n",
       "    }\n",
       "\n",
       "    .dataframe thead th {\n",
       "        text-align: right;\n",
       "    }\n",
       "</style>\n",
       "<table border=\"1\" class=\"dataframe\">\n",
       "  <thead>\n",
       "    <tr style=\"text-align: right;\">\n",
       "      <th></th>\n",
       "      <th>age</th>\n",
       "      <th>sex</th>\n",
       "      <th>test_time</th>\n",
       "      <th>Jitter(%)</th>\n",
       "      <th>Jitter(Abs)</th>\n",
       "      <th>Jitter:RAP</th>\n",
       "      <th>Jitter:PPQ5</th>\n",
       "      <th>Jitter:DDP</th>\n",
       "      <th>Shimmer</th>\n",
       "      <th>Shimmer(dB)</th>\n",
       "      <th>Shimmer:APQ3</th>\n",
       "      <th>Shimmer:APQ5</th>\n",
       "      <th>Shimmer:APQ11</th>\n",
       "      <th>Shimmer:DDA</th>\n",
       "      <th>NHR</th>\n",
       "      <th>HNR</th>\n",
       "      <th>RPDE</th>\n",
       "      <th>DFA</th>\n",
       "      <th>PPE</th>\n",
       "      <th>total_UPDRS</th>\n",
       "    </tr>\n",
       "  </thead>\n",
       "  <tbody>\n",
       "    <tr>\n",
       "      <th>0</th>\n",
       "      <td>49</td>\n",
       "      <td>0</td>\n",
       "      <td>194.890</td>\n",
       "      <td>0.01674</td>\n",
       "      <td>0.000156</td>\n",
       "      <td>0.01055</td>\n",
       "      <td>0.00750</td>\n",
       "      <td>0.03166</td>\n",
       "      <td>0.09713</td>\n",
       "      <td>0.833</td>\n",
       "      <td>0.05832</td>\n",
       "      <td>0.04904</td>\n",
       "      <td>0.06635</td>\n",
       "      <td>0.17497</td>\n",
       "      <td>0.194060</td>\n",
       "      <td>12.612</td>\n",
       "      <td>0.76658</td>\n",
       "      <td>0.66783</td>\n",
       "      <td>0.44528</td>\n",
       "      <td>25.011</td>\n",
       "    </tr>\n",
       "    <tr>\n",
       "      <th>1</th>\n",
       "      <td>66</td>\n",
       "      <td>1</td>\n",
       "      <td>135.410</td>\n",
       "      <td>0.00520</td>\n",
       "      <td>0.000029</td>\n",
       "      <td>0.00179</td>\n",
       "      <td>0.00220</td>\n",
       "      <td>0.00536</td>\n",
       "      <td>0.05364</td>\n",
       "      <td>0.471</td>\n",
       "      <td>0.03006</td>\n",
       "      <td>0.02792</td>\n",
       "      <td>0.03804</td>\n",
       "      <td>0.09019</td>\n",
       "      <td>0.065038</td>\n",
       "      <td>15.346</td>\n",
       "      <td>0.63731</td>\n",
       "      <td>0.54549</td>\n",
       "      <td>0.25823</td>\n",
       "      <td>32.000</td>\n",
       "    </tr>\n",
       "    <tr>\n",
       "      <th>2</th>\n",
       "      <td>63</td>\n",
       "      <td>0</td>\n",
       "      <td>61.338</td>\n",
       "      <td>0.00548</td>\n",
       "      <td>0.000043</td>\n",
       "      <td>0.00259</td>\n",
       "      <td>0.00259</td>\n",
       "      <td>0.00776</td>\n",
       "      <td>0.03919</td>\n",
       "      <td>0.353</td>\n",
       "      <td>0.02147</td>\n",
       "      <td>0.02547</td>\n",
       "      <td>0.03266</td>\n",
       "      <td>0.06440</td>\n",
       "      <td>0.017563</td>\n",
       "      <td>21.109</td>\n",
       "      <td>0.56231</td>\n",
       "      <td>0.64180</td>\n",
       "      <td>0.20707</td>\n",
       "      <td>39.674</td>\n",
       "    </tr>\n",
       "    <tr>\n",
       "      <th>3</th>\n",
       "      <td>75</td>\n",
       "      <td>0</td>\n",
       "      <td>181.350</td>\n",
       "      <td>0.00701</td>\n",
       "      <td>0.000055</td>\n",
       "      <td>0.00270</td>\n",
       "      <td>0.00371</td>\n",
       "      <td>0.00810</td>\n",
       "      <td>0.02869</td>\n",
       "      <td>0.269</td>\n",
       "      <td>0.01196</td>\n",
       "      <td>0.01599</td>\n",
       "      <td>0.02768</td>\n",
       "      <td>0.03589</td>\n",
       "      <td>0.017749</td>\n",
       "      <td>20.992</td>\n",
       "      <td>0.50528</td>\n",
       "      <td>0.76762</td>\n",
       "      <td>0.24917</td>\n",
       "      <td>24.925</td>\n",
       "    </tr>\n",
       "    <tr>\n",
       "      <th>4</th>\n",
       "      <td>55</td>\n",
       "      <td>0</td>\n",
       "      <td>168.840</td>\n",
       "      <td>0.01601</td>\n",
       "      <td>0.000113</td>\n",
       "      <td>0.00883</td>\n",
       "      <td>0.00775</td>\n",
       "      <td>0.02650</td>\n",
       "      <td>0.04998</td>\n",
       "      <td>0.494</td>\n",
       "      <td>0.02814</td>\n",
       "      <td>0.02878</td>\n",
       "      <td>0.03887</td>\n",
       "      <td>0.08443</td>\n",
       "      <td>0.091321</td>\n",
       "      <td>17.524</td>\n",
       "      <td>0.60864</td>\n",
       "      <td>0.73426</td>\n",
       "      <td>0.47043</td>\n",
       "      <td>26.230</td>\n",
       "    </tr>\n",
       "  </tbody>\n",
       "</table>\n",
       "</div>"
      ],
      "text/plain": [
       "   age  sex  test_time  Jitter(%)  Jitter(Abs)  Jitter:RAP  Jitter:PPQ5  \\\n",
       "0   49    0    194.890    0.01674     0.000156     0.01055      0.00750   \n",
       "1   66    1    135.410    0.00520     0.000029     0.00179      0.00220   \n",
       "2   63    0     61.338    0.00548     0.000043     0.00259      0.00259   \n",
       "3   75    0    181.350    0.00701     0.000055     0.00270      0.00371   \n",
       "4   55    0    168.840    0.01601     0.000113     0.00883      0.00775   \n",
       "\n",
       "   Jitter:DDP  Shimmer  Shimmer(dB)  Shimmer:APQ3  Shimmer:APQ5  \\\n",
       "0     0.03166  0.09713        0.833       0.05832       0.04904   \n",
       "1     0.00536  0.05364        0.471       0.03006       0.02792   \n",
       "2     0.00776  0.03919        0.353       0.02147       0.02547   \n",
       "3     0.00810  0.02869        0.269       0.01196       0.01599   \n",
       "4     0.02650  0.04998        0.494       0.02814       0.02878   \n",
       "\n",
       "   Shimmer:APQ11  Shimmer:DDA       NHR     HNR     RPDE      DFA      PPE  \\\n",
       "0        0.06635      0.17497  0.194060  12.612  0.76658  0.66783  0.44528   \n",
       "1        0.03804      0.09019  0.065038  15.346  0.63731  0.54549  0.25823   \n",
       "2        0.03266      0.06440  0.017563  21.109  0.56231  0.64180  0.20707   \n",
       "3        0.02768      0.03589  0.017749  20.992  0.50528  0.76762  0.24917   \n",
       "4        0.03887      0.08443  0.091321  17.524  0.60864  0.73426  0.47043   \n",
       "\n",
       "   total_UPDRS  \n",
       "0       25.011  \n",
       "1       32.000  \n",
       "2       39.674  \n",
       "3       24.925  \n",
       "4       26.230  "
      ]
     },
     "execution_count": 8,
     "metadata": {},
     "output_type": "execute_result"
    }
   ],
   "source": [
    "parkinsons = pd.read_csv(\"parkinsons.csv\")\n",
    "parkinsons_attributes = parkinsons.iloc[:,:-1]\n",
    "parkinsons_objective = parkinsons.iloc[:,-1:]\n",
    "parkinsons.head()"
   ]
  },
  {
   "cell_type": "code",
   "execution_count": 9,
   "id": "922b8768-f5dd-4495-a6cc-3bc7ea20c82e",
   "metadata": {
    "scrolled": true
   },
   "outputs": [
    {
     "data": {
      "text/html": [
       "<div>\n",
       "<style scoped>\n",
       "    .dataframe tbody tr th:only-of-type {\n",
       "        vertical-align: middle;\n",
       "    }\n",
       "\n",
       "    .dataframe tbody tr th {\n",
       "        vertical-align: top;\n",
       "    }\n",
       "\n",
       "    .dataframe thead th {\n",
       "        text-align: right;\n",
       "    }\n",
       "</style>\n",
       "<table border=\"1\" class=\"dataframe\">\n",
       "  <thead>\n",
       "    <tr style=\"text-align: right;\">\n",
       "      <th></th>\n",
       "      <th>age</th>\n",
       "      <th>sex</th>\n",
       "      <th>test_time</th>\n",
       "      <th>Jitter(%)</th>\n",
       "      <th>Jitter(Abs)</th>\n",
       "      <th>Jitter:RAP</th>\n",
       "      <th>Jitter:PPQ5</th>\n",
       "      <th>Jitter:DDP</th>\n",
       "      <th>Shimmer</th>\n",
       "      <th>Shimmer(dB)</th>\n",
       "      <th>Shimmer:APQ3</th>\n",
       "      <th>Shimmer:APQ5</th>\n",
       "      <th>Shimmer:APQ11</th>\n",
       "      <th>Shimmer:DDA</th>\n",
       "      <th>NHR</th>\n",
       "      <th>HNR</th>\n",
       "      <th>RPDE</th>\n",
       "      <th>DFA</th>\n",
       "      <th>PPE</th>\n",
       "    </tr>\n",
       "  </thead>\n",
       "  <tbody>\n",
       "    <tr>\n",
       "      <th>0</th>\n",
       "      <td>0.265306</td>\n",
       "      <td>0.0</td>\n",
       "      <td>0.906258</td>\n",
       "      <td>0.160448</td>\n",
       "      <td>0.394159</td>\n",
       "      <td>0.178640</td>\n",
       "      <td>0.102271</td>\n",
       "      <td>0.178736</td>\n",
       "      <td>0.482192</td>\n",
       "      <td>0.492940</td>\n",
       "      <td>0.572932</td>\n",
       "      <td>0.313121</td>\n",
       "      <td>0.232539</td>\n",
       "      <td>0.572961</td>\n",
       "      <td>0.258728</td>\n",
       "      <td>0.324861</td>\n",
       "      <td>0.770456</td>\n",
       "      <td>0.431336</td>\n",
       "      <td>0.595707</td>\n",
       "    </tr>\n",
       "    <tr>\n",
       "      <th>1</th>\n",
       "      <td>0.612245</td>\n",
       "      <td>1.0</td>\n",
       "      <td>0.635590</td>\n",
       "      <td>0.044070</td>\n",
       "      <td>0.065745</td>\n",
       "      <td>0.025520</td>\n",
       "      <td>0.025604</td>\n",
       "      <td>0.025517</td>\n",
       "      <td>0.258363</td>\n",
       "      <td>0.270718</td>\n",
       "      <td>0.286871</td>\n",
       "      <td>0.172386</td>\n",
       "      <td>0.128638</td>\n",
       "      <td>0.286919</td>\n",
       "      <td>0.086154</td>\n",
       "      <td>0.405950</td>\n",
       "      <td>0.594343</td>\n",
       "      <td>0.079562</td>\n",
       "      <td>0.331706</td>\n",
       "    </tr>\n",
       "    <tr>\n",
       "      <th>2</th>\n",
       "      <td>0.551020</td>\n",
       "      <td>0.0</td>\n",
       "      <td>0.298520</td>\n",
       "      <td>0.046894</td>\n",
       "      <td>0.102573</td>\n",
       "      <td>0.039504</td>\n",
       "      <td>0.031245</td>\n",
       "      <td>0.039499</td>\n",
       "      <td>0.183994</td>\n",
       "      <td>0.198281</td>\n",
       "      <td>0.199919</td>\n",
       "      <td>0.156061</td>\n",
       "      <td>0.108893</td>\n",
       "      <td>0.199906</td>\n",
       "      <td>0.022654</td>\n",
       "      <td>0.576877</td>\n",
       "      <td>0.492166</td>\n",
       "      <td>0.356490</td>\n",
       "      <td>0.259499</td>\n",
       "    </tr>\n",
       "    <tr>\n",
       "      <th>3</th>\n",
       "      <td>0.795918</td>\n",
       "      <td>0.0</td>\n",
       "      <td>0.844643</td>\n",
       "      <td>0.062324</td>\n",
       "      <td>0.132917</td>\n",
       "      <td>0.041426</td>\n",
       "      <td>0.047447</td>\n",
       "      <td>0.041480</td>\n",
       "      <td>0.129954</td>\n",
       "      <td>0.146716</td>\n",
       "      <td>0.103654</td>\n",
       "      <td>0.092890</td>\n",
       "      <td>0.090615</td>\n",
       "      <td>0.103715</td>\n",
       "      <td>0.022903</td>\n",
       "      <td>0.573407</td>\n",
       "      <td>0.414471</td>\n",
       "      <td>0.718270</td>\n",
       "      <td>0.318918</td>\n",
       "    </tr>\n",
       "    <tr>\n",
       "      <th>4</th>\n",
       "      <td>0.387755</td>\n",
       "      <td>0.0</td>\n",
       "      <td>0.787716</td>\n",
       "      <td>0.153086</td>\n",
       "      <td>0.283677</td>\n",
       "      <td>0.148575</td>\n",
       "      <td>0.105887</td>\n",
       "      <td>0.148675</td>\n",
       "      <td>0.239527</td>\n",
       "      <td>0.284837</td>\n",
       "      <td>0.267436</td>\n",
       "      <td>0.178117</td>\n",
       "      <td>0.131684</td>\n",
       "      <td>0.267485</td>\n",
       "      <td>0.121309</td>\n",
       "      <td>0.470548</td>\n",
       "      <td>0.555285</td>\n",
       "      <td>0.622347</td>\n",
       "      <td>0.631203</td>\n",
       "    </tr>\n",
       "  </tbody>\n",
       "</table>\n",
       "</div>"
      ],
      "text/plain": [
       "        age  sex  test_time  Jitter(%)  Jitter(Abs)  Jitter:RAP  Jitter:PPQ5  \\\n",
       "0  0.265306  0.0   0.906258   0.160448     0.394159    0.178640     0.102271   \n",
       "1  0.612245  1.0   0.635590   0.044070     0.065745    0.025520     0.025604   \n",
       "2  0.551020  0.0   0.298520   0.046894     0.102573    0.039504     0.031245   \n",
       "3  0.795918  0.0   0.844643   0.062324     0.132917    0.041426     0.047447   \n",
       "4  0.387755  0.0   0.787716   0.153086     0.283677    0.148575     0.105887   \n",
       "\n",
       "   Jitter:DDP   Shimmer  Shimmer(dB)  Shimmer:APQ3  Shimmer:APQ5  \\\n",
       "0    0.178736  0.482192     0.492940      0.572932      0.313121   \n",
       "1    0.025517  0.258363     0.270718      0.286871      0.172386   \n",
       "2    0.039499  0.183994     0.198281      0.199919      0.156061   \n",
       "3    0.041480  0.129954     0.146716      0.103654      0.092890   \n",
       "4    0.148675  0.239527     0.284837      0.267436      0.178117   \n",
       "\n",
       "   Shimmer:APQ11  Shimmer:DDA       NHR       HNR      RPDE       DFA  \\\n",
       "0       0.232539     0.572961  0.258728  0.324861  0.770456  0.431336   \n",
       "1       0.128638     0.286919  0.086154  0.405950  0.594343  0.079562   \n",
       "2       0.108893     0.199906  0.022654  0.576877  0.492166  0.356490   \n",
       "3       0.090615     0.103715  0.022903  0.573407  0.414471  0.718270   \n",
       "4       0.131684     0.267485  0.121309  0.470548  0.555285  0.622347   \n",
       "\n",
       "        PPE  \n",
       "0  0.595707  \n",
       "1  0.331706  \n",
       "2  0.259499  \n",
       "3  0.318918  \n",
       "4  0.631203  "
      ]
     },
     "execution_count": 9,
     "metadata": {},
     "output_type": "execute_result"
    }
   ],
   "source": [
    "normalizer = MinMaxScaler(feature_range=(0, 1))\n",
    "parkinsons_attributes = pd.DataFrame(\n",
    "    normalizer.fit_transform(parkinsons_attributes),\n",
    "    columns=parkinsons_attributes.columns\n",
    ")\n",
    "parkinsons_attributes.head()"
   ]
  },
  {
   "cell_type": "markdown",
   "id": "e6b7416c-402e-4019-8c7f-86eca98f5941",
   "metadata": {},
   "source": [
    "<h4>Potenciación del Gradiente con CART</h4>"
   ]
  },
  {
   "cell_type": "markdown",
   "id": "b6967194-5485-4865-9bf0-b59c087491ef",
   "metadata": {},
   "source": [
    "Una vez tenemos la información almacenada correctamente, pasamos a la experimentación sobre estos conjuntos de datos. Para ello primero utilizaremos el modelo predictivo [DecisionTreeRegressor](https://scikit-learn.org/stable/modules/generated/sklearn.tree.DecisionTreeRegressor.html) y realizaremos una **validación por retención**."
   ]
  },
  {
   "cell_type": "code",
   "execution_count": 10,
   "id": "8c4cad03-60e1-442f-be7f-3371f40b24c6",
   "metadata": {},
   "outputs": [],
   "source": [
    "(training_attributes_houses, test_attributes_houses,\n",
    " training_objetive_houses, test_objective_houses) = train_test_split(houses_attributes, houses_objective, test_size=.2)\n",
    "(training_attributes_parkinsons, test_attributes_parkinsons,\n",
    " training_objetive_parkinsons, test_objective_parkinsons) = train_test_split(parkinsons_attributes, parkinsons_objective, test_size=.2)"
   ]
  },
  {
   "cell_type": "code",
   "execution_count": 11,
   "id": "e47c938d-928d-4ee9-b82d-488442adeb55",
   "metadata": {},
   "outputs": [],
   "source": [
    "hyperparametersTree = {\n",
    "    'max_depth' : 10,\n",
    "    'min_samples_split': 2\n",
    "}\n",
    "housesTree = SequentialRegressor(DecisionTreeRegressor(), n_estimators=4, sample_size=0.75, lr=0.5, hyperparameters=hyperparametersTree)\n",
    "parkinsonsTree = SequentialRegressor(DecisionTreeRegressor(), n_estimators=4, sample_size=0.75, lr=0.5, hyperparameters=hyperparametersTree)"
   ]
  },
  {
   "cell_type": "code",
   "execution_count": 12,
   "id": "e7419de8-da6c-4a9b-830c-0ffa41fb41eb",
   "metadata": {},
   "outputs": [],
   "source": [
    "housesTree.fit(training_attributes_houses, training_objetive_houses)\n",
    "housesPredictions = housesTree.predict(test_attributes_houses)\n",
    "parkinsonsTree.fit(training_attributes_parkinsons, training_objetive_parkinsons)\n",
    "parkinsonsPredictions = parkinsonsTree.predict(test_attributes_parkinsons)"
   ]
  },
  {
   "cell_type": "code",
   "execution_count": 13,
   "id": "1f723883-5ac6-417b-a98c-6a60705ea98a",
   "metadata": {},
   "outputs": [
    {
     "name": "stdout",
     "output_type": "stream",
     "text": [
      "Coeficiente de determinación (Viviendas): 0.6577758401970466\n",
      "Coeficiente de determinación (Parkinson): 0.8419887246197574\n",
      "Error absoluto medio (Viviendas): 29325.109078521036\n",
      "Error absoluto medio (Parkinson): 3.049775979490048\n"
     ]
    }
   ],
   "source": [
    "print(\"Coeficiente de determinación (Viviendas): \" + str(r2_score(test_objective_houses, housesPredictions)))\n",
    "print(\"Coeficiente de determinación (Parkinson): \" + str(r2_score(test_objective_parkinsons, parkinsonsPredictions)))\n",
    "print(\"Error absoluto medio (Viviendas): \" + str(mean_absolute_error(test_objective_houses, housesPredictions)))\n",
    "print(\"Error absoluto medio (Parkinson): \" + str(mean_absolute_error(test_objective_parkinsons, parkinsonsPredictions)))"
   ]
  },
  {
   "cell_type": "markdown",
   "id": "a4d1eeef-a16d-45e3-9ba2-dab0612e0cfb",
   "metadata": {},
   "source": [
    "A continuación realiamos una **validación cruzada por 10-pliegues** con los conjuntos de datos."
   ]
  },
  {
   "cell_type": "code",
   "execution_count": 14,
   "id": "aa079b02-6b50-4c52-9a76-1eae615284cb",
   "metadata": {},
   "outputs": [
    {
     "name": "stdout",
     "output_type": "stream",
     "text": [
      "Coeficiente de determinación (Viviendas): 0.6414133455646611\n",
      "Coeficiente de determinación (Parkinson): 0.8371597722303535\n",
      "Error absoluto medio (Viviendas): 29888.189670346463\n",
      "Error absoluto medio (Parkinson): 3.0107721851961307\n"
     ]
    }
   ],
   "source": [
    "housesTree = SequentialRegressor(DecisionTreeRegressor(), n_estimators=4, sample_size=0.75, lr=0.5, hyperparameters=hyperparametersTree)\n",
    "parkinsonsTree = SequentialRegressor(DecisionTreeRegressor(), n_estimators=4, sample_size=0.75, lr=0.5, hyperparameters=hyperparametersTree)\n",
    "housesResults = housesTree.evaluate(houses_attributes, houses_objective, 10)\n",
    "parkinsonsResults = parkinsonsTree.evaluate(parkinsons_attributes, parkinsons_objective, 10)\n",
    "print(\"Coeficiente de determinación (Viviendas): \" + str(housesResults['r2']))\n",
    "print(\"Coeficiente de determinación (Parkinson): \" + str(parkinsonsResults['r2']))\n",
    "print(\"Error absoluto medio (Viviendas): \" + str(-housesResults['neg_mean_absolute_error']))\n",
    "print(\"Error absoluto medio (Parkinson): \" + str(-parkinsonsResults['neg_mean_absolute_error']))"
   ]
  },
  {
   "cell_type": "markdown",
   "id": "5f9bd0ac-fcc4-4a5b-9e23-55784ee4fec3",
   "metadata": {},
   "source": [
    "<h4>Potenciación del Gradiente con KNN</h4>"
   ]
  },
  {
   "cell_type": "markdown",
   "id": "27e522a6-ddc9-4176-a102-83da3672273f",
   "metadata": {},
   "source": [
    "Para continuar con la experimentación realizamos las mismas pruebas anteriormente realizadas pero ahora con el modelo predictivo [KNeighborsRegressor](https://scikit-learn.org/stable/modules/generated/sklearn.neighbors.KNeighborsRegressor.html). Comenzamos por la **validación por retención**."
   ]
  },
  {
   "cell_type": "code",
   "execution_count": 15,
   "id": "d00b338a-9581-4e20-854f-5931256fc50b",
   "metadata": {},
   "outputs": [],
   "source": [
    "hyperparametersKNN = {\n",
    "    'n_neighbors' : 5,\n",
    "    'metric': 'euclidean'\n",
    "}\n",
    "housesKNN = SequentialRegressor(KNeighborsRegressor(), n_estimators=4, sample_size=0.75, lr=0.5, hyperparameters=hyperparametersKNN)\n",
    "parkinsonsKNN = SequentialRegressor(KNeighborsRegressor(), n_estimators=4, sample_size=0.75, lr=0.5, hyperparameters=hyperparametersKNN)"
   ]
  },
  {
   "cell_type": "code",
   "execution_count": 16,
   "id": "f4a69e5f-7773-4221-88c7-b2afa1501ea0",
   "metadata": {},
   "outputs": [],
   "source": [
    "housesKNN.fit(training_attributes_houses, training_objetive_houses)\n",
    "housesPredictions = housesKNN.predict(test_attributes_houses)\n",
    "parkinsonsKNN.fit(training_attributes_parkinsons, training_objetive_parkinsons)\n",
    "parkinsonsPredictions = parkinsonsKNN.predict(test_attributes_parkinsons)"
   ]
  },
  {
   "cell_type": "code",
   "execution_count": 17,
   "id": "19bd30a1-81df-4866-8537-2f1f68bc1aa7",
   "metadata": {},
   "outputs": [
    {
     "name": "stdout",
     "output_type": "stream",
     "text": [
      "Coeficiente de determinación (Viviendas): 0.6718099617369188\n",
      "Coeficiente de determinación (Parkinson): 0.5358055854298482\n",
      "Error absoluto medio (Viviendas): 28768.631728571432\n",
      "Error absoluto medio (Parkinson): 5.08990815115\n"
     ]
    }
   ],
   "source": [
    "print(\"Coeficiente de determinación (Viviendas): \" + str(r2_score(test_objective_houses, housesPredictions)))\n",
    "print(\"Coeficiente de determinación (Parkinson): \" + str(r2_score(test_objective_parkinsons, parkinsonsPredictions)))\n",
    "print(\"Error absoluto medio (Viviendas): \" + str(mean_absolute_error(test_objective_houses, housesPredictions)))\n",
    "print(\"Error absoluto medio (Parkinson): \" + str(mean_absolute_error(test_objective_parkinsons, parkinsonsPredictions)))"
   ]
  },
  {
   "cell_type": "markdown",
   "id": "56597b1f-b974-407d-929b-72efc01a27da",
   "metadata": {},
   "source": [
    "A continuación continuamos con la **validación cruzada por 10-pliegues**."
   ]
  },
  {
   "cell_type": "code",
   "execution_count": 18,
   "id": "e9b457e1-ca66-4b1d-b4a3-b25c55aa1e44",
   "metadata": {},
   "outputs": [
    {
     "name": "stdout",
     "output_type": "stream",
     "text": [
      "Coeficiente de determinación (Viviendas): 0.6470140269185698\n",
      "Coeficiente de determinación (Parkinson): 0.45677398150572646\n",
      "Error absoluto medio (Viviendas): 29389.375615714285\n",
      "Error absoluto medio (Parkinson): 5.343921980724999\n"
     ]
    }
   ],
   "source": [
    "housesKNN = SequentialRegressor(KNeighborsRegressor(), n_estimators=4, sample_size=0.75, lr=0.5, hyperparameters=hyperparametersKNN)\n",
    "parkinsonsKNN = SequentialRegressor(KNeighborsRegressor(), n_estimators=4, sample_size=0.75, lr=0.5, hyperparameters=hyperparametersKNN)\n",
    "housesResults = housesKNN.evaluate(houses_attributes, houses_objective, 10)\n",
    "parkinsonsResults = parkinsonsKNN.evaluate(parkinsons_attributes, parkinsons_objective, 10)\n",
    "print(\"Coeficiente de determinación (Viviendas): \" + str(housesResults['r2']))\n",
    "print(\"Coeficiente de determinación (Parkinson): \" + str(parkinsonsResults['r2']))\n",
    "print(\"Error absoluto medio (Viviendas): \" + str(-housesResults['neg_mean_absolute_error']))\n",
    "print(\"Error absoluto medio (Parkinson): \" + str(-parkinsonsResults['neg_mean_absolute_error']))"
   ]
  },
  {
   "cell_type": "markdown",
   "id": "f99cd658-983e-4fd3-a991-5e32d9a96b2f",
   "metadata": {},
   "source": [
    "<h4>CART</h4>"
   ]
  },
  {
   "cell_type": "markdown",
   "id": "bb05501b-34fa-46e5-b65e-5196be80206d",
   "metadata": {},
   "source": [
    "Para ver la efectividad del algoritmo de potenciación del gradiente realizaremos los mismos experimentos con un único modelo predictivo de cada tipo. Comenzamos con el algoritmo CART y **validación por retención**."
   ]
  },
  {
   "cell_type": "code",
   "execution_count": 19,
   "id": "68a5fd69-23f4-47e9-841f-29dedce627f5",
   "metadata": {},
   "outputs": [],
   "source": [
    "housesTree = DecisionTreeRegressor(max_depth=10, min_samples_split=2)\n",
    "parkinsonsTree = DecisionTreeRegressor(max_depth=10, min_samples_split=2)"
   ]
  },
  {
   "cell_type": "code",
   "execution_count": 20,
   "id": "9dc5052a-c7fe-458c-8320-20ed466aeab8",
   "metadata": {},
   "outputs": [],
   "source": [
    "housesTree.fit(training_attributes_houses, training_objetive_houses)\n",
    "housesPredictions = housesTree.predict(test_attributes_houses)\n",
    "parkinsonsTree.fit(training_attributes_parkinsons, training_objetive_parkinsons)\n",
    "parkinsonsPredictions = parkinsonsTree.predict(test_attributes_parkinsons)"
   ]
  },
  {
   "cell_type": "code",
   "execution_count": 21,
   "id": "d3bacdb9-fe56-410a-aaa3-bdbf23b18549",
   "metadata": {},
   "outputs": [
    {
     "name": "stdout",
     "output_type": "stream",
     "text": [
      "Coeficiente de determinación (Viviendas): 0.6111689915147074\n",
      "Coeficiente de determinación (Parkinson): 0.881663193370734\n",
      "Error absoluto medio (Viviendas): 34126.17865709439\n",
      "Error absoluto medio (Parkinson): 1.4747014369738067\n"
     ]
    }
   ],
   "source": [
    "print(\"Coeficiente de determinación (Viviendas): \" + str(r2_score(test_objective_houses, housesPredictions)))\n",
    "print(\"Coeficiente de determinación (Parkinson): \" + str(r2_score(test_objective_parkinsons, parkinsonsPredictions)))\n",
    "print(\"Error absoluto medio (Viviendas): \" + str(mean_absolute_error(test_objective_houses, housesPredictions)))\n",
    "print(\"Error absoluto medio (Parkinson): \" + str(mean_absolute_error(test_objective_parkinsons, parkinsonsPredictions)))"
   ]
  },
  {
   "cell_type": "markdown",
   "id": "d520c315-b7fa-45fc-b5de-60bc625ec54a",
   "metadata": {},
   "source": [
    "A continuación se realiza el mismo experimento con **validación cruzada por 10-pliegues**."
   ]
  },
  {
   "cell_type": "code",
   "execution_count": 22,
   "id": "785e579d-b7a8-46e2-a5a4-3892d6d303bc",
   "metadata": {},
   "outputs": [
    {
     "name": "stdout",
     "output_type": "stream",
     "text": [
      "Coeficiente de determinación (Viviendas): 0.47064096701735236\n",
      "Coeficiente de determinación (Parkinson): 0.8515609328940126\n",
      "Error absoluto medio (Viviendas): 33203.51605587966\n",
      "Error absoluto medio (Parkinson): 1.8189509033608515\n"
     ]
    }
   ],
   "source": [
    "housesTree = DecisionTreeRegressor(max_depth=10, min_samples_split=2)\n",
    "parkinsonsTree = DecisionTreeRegressor(max_depth=10, min_samples_split=2)\n",
    "housesResults = cross_validate(housesTree, houses_attributes, houses_objective, scoring=['r2', 'neg_mean_absolute_error'], cv=10)\n",
    "parkinsonsResults = cross_validate(parkinsonsTree, parkinsons_attributes, parkinsons_objective, scoring=['r2', 'neg_mean_absolute_error'], cv=10)\n",
    "print(\"Coeficiente de determinación (Viviendas): \" + str(housesResults['test_r2'].mean()))\n",
    "print(\"Coeficiente de determinación (Parkinson): \" + str(parkinsonsResults['test_r2'].mean()))\n",
    "print(\"Error absoluto medio (Viviendas): \" + str(-housesResults['test_neg_mean_absolute_error'].mean()))\n",
    "print(\"Error absoluto medio (Parkinson): \" + str(-parkinsonsResults['test_neg_mean_absolute_error'].mean()))"
   ]
  },
  {
   "cell_type": "markdown",
   "id": "40202de3-aaca-46a8-96e9-caf7d16bcccc",
   "metadata": {},
   "source": [
    "<h4>KNN</h4>"
   ]
  },
  {
   "cell_type": "markdown",
   "id": "6b022421-d518-403a-a43e-ae0b44539692",
   "metadata": {},
   "source": [
    "Continuamos con el algoritmo KNN y **validación por retención**."
   ]
  },
  {
   "cell_type": "code",
   "execution_count": 23,
   "id": "c6d5487c-dcdc-4884-9890-627d5ada5951",
   "metadata": {},
   "outputs": [],
   "source": [
    "housesKNN = KNeighborsRegressor(n_neighbors=5, metric='euclidean')\n",
    "parkinsonsKNN = KNeighborsRegressor(n_neighbors=5, metric='euclidean')"
   ]
  },
  {
   "cell_type": "code",
   "execution_count": 24,
   "id": "e4cd3b2c-b938-422b-a318-f50fabe83d37",
   "metadata": {},
   "outputs": [],
   "source": [
    "housesKNN.fit(training_attributes_houses, training_objetive_houses)\n",
    "housesPredictions = housesKNN.predict(test_attributes_houses)\n",
    "parkinsonsKNN.fit(training_attributes_parkinsons, training_objetive_parkinsons)\n",
    "parkinsonsPredictions = parkinsonsKNN.predict(test_attributes_parkinsons)"
   ]
  },
  {
   "cell_type": "code",
   "execution_count": 25,
   "id": "3130ba46-0b22-4dc3-bd3b-8d2c01da3c64",
   "metadata": {},
   "outputs": [
    {
     "name": "stdout",
     "output_type": "stream",
     "text": [
      "Coeficiente de determinación (Viviendas): 0.6936083453911583\n",
      "Coeficiente de determinación (Parkinson): 0.5741096990316554\n",
      "Error absoluto medio (Viviendas): 29221.305357142857\n",
      "Error absoluto medio (Parkinson): 4.6179443000000004\n"
     ]
    }
   ],
   "source": [
    "print(\"Coeficiente de determinación (Viviendas): \" + str(r2_score(test_objective_houses, housesPredictions)))\n",
    "print(\"Coeficiente de determinación (Parkinson): \" + str(r2_score(test_objective_parkinsons, parkinsonsPredictions)))\n",
    "print(\"Error absoluto medio (Viviendas): \" + str(mean_absolute_error(test_objective_houses, housesPredictions)))\n",
    "print(\"Error absoluto medio (Parkinson): \" + str(mean_absolute_error(test_objective_parkinsons, parkinsonsPredictions)))"
   ]
  },
  {
   "cell_type": "markdown",
   "id": "0fe0aad5-7eaa-43c6-a5fe-752251648ed0",
   "metadata": {},
   "source": [
    "Finalmente realizamos la **validación cruzada por 10-pliegues**."
   ]
  },
  {
   "cell_type": "code",
   "execution_count": 26,
   "id": "8492b175-2d31-4c4a-ab01-1f2bdd4c4089",
   "metadata": {},
   "outputs": [
    {
     "name": "stdout",
     "output_type": "stream",
     "text": [
      "Coeficiente de determinación (Viviendas): 0.6736937651211619\n",
      "Coeficiente de determinación (Parkinson): 0.5326926157166312\n",
      "Error absoluto medio (Viviendas): 28452.66535714286\n",
      "Error absoluto medio (Parkinson): 4.718700940000001\n"
     ]
    }
   ],
   "source": [
    "housesKNN = KNeighborsRegressor(n_neighbors=5, metric='euclidean')\n",
    "parkinsonsKNN = KNeighborsRegressor(n_neighbors=5, metric='euclidean')\n",
    "housesResults = cross_validate(housesKNN, houses_attributes, houses_objective, scoring=['r2', 'neg_mean_absolute_error'], cv=10)\n",
    "parkinsonsResults = cross_validate(parkinsonsKNN, parkinsons_attributes, parkinsons_objective, scoring=['r2', 'neg_mean_absolute_error'], cv=10)\n",
    "print(\"Coeficiente de determinación (Viviendas): \" + str(housesResults['test_r2'].mean()))\n",
    "print(\"Coeficiente de determinación (Parkinson): \" + str(parkinsonsResults['test_r2'].mean()))\n",
    "print(\"Error absoluto medio (Viviendas): \" + str(-housesResults['test_neg_mean_absolute_error'].mean()))\n",
    "print(\"Error absoluto medio (Parkinson): \" + str(-parkinsonsResults['test_neg_mean_absolute_error'].mean()))"
   ]
  },
  {
   "cell_type": "markdown",
   "id": "84852a38",
   "metadata": {},
   "source": [
    "<h3>Experimentación con hiperparámetros</h3>"
   ]
  },
  {
   "cell_type": "markdown",
   "id": "a81b4724",
   "metadata": {},
   "source": [
    "A continuación procedemos a experimentar con diferentes hiperparámetros mediante una **busqueda por rejilla** para analizar cual es el mejor conjunto de ellos. Para ello utilizaremos una función, para facilitar la experimentación, que toma como parámetros los rangos de los hiperparámetros a analizar mediante la busqueda en rejilla de [GridSearchCV](https://scikit-learn.org/stable/modules/generated/sklearn.model_selection.GridSearchCV.html)"
   ]
  },
  {
   "cell_type": "code",
   "execution_count": 27,
   "id": "75186772",
   "metadata": {},
   "outputs": [],
   "source": [
    "def busqueda_hiperparametros(estimator,hnames_estimator,hvalues_estimator,n_estimators,sample_size,lr,kpliegues,atributos_entrenamiento,objetivo_entrenamiento):\n",
    "    tree = SequentialRegressor(estimator)\n",
    "    rejilla_de_hiperparametros = {\n",
    "    'n_estimators':n_estimators,    \n",
    "    'sample_size': sample_size,\n",
    "    'lr':lr   \n",
    "    }\n",
    "    for i in range(len(hnames_estimator)):#toma los nombres y los valores de los hiperparámetros del estimador correspondiente y lo añade al diccionario de hiperparámetros.\n",
    "        name = 'estimator__'+ hnames_estimator[i]\n",
    "        value = hvalues_estimator[i]\n",
    "        rejilla_de_hiperparametros[name] = value\n",
    "    busqueda_en_rejilla = GridSearchCV(tree,rejilla_de_hiperparametros,scoring = 'r2',cv=kpliegues)\n",
    "    busqueda_en_rejilla.fit(atributos_entrenamiento,objetivo_entrenamiento)\n",
    "    return [busqueda_en_rejilla.best_params_,busqueda_en_rejilla.best_score_] "
   ]
  },
  {
   "cell_type": "markdown",
   "id": "8aff05b3",
   "metadata": {},
   "source": [
    "<h4>Evaluación del modelo de ensamble secuencial</h4>"
   ]
  },
  {
   "cell_type": "markdown",
   "id": "6b6f0287",
   "metadata": {},
   "source": [
    "Procedemos a analizar los hiperparámetros más útiles para el estimador **CART** con validación cruzada"
   ]
  },
  {
   "cell_type": "code",
   "execution_count": 28,
   "id": "ba5020ee",
   "metadata": {},
   "outputs": [
    {
     "ename": "KeyboardInterrupt",
     "evalue": "",
     "output_type": "error",
     "traceback": [
      "\u001b[1;31m---------------------------------------------------------------------------\u001b[0m",
      "\u001b[1;31mKeyboardInterrupt\u001b[0m                         Traceback (most recent call last)",
      "Cell \u001b[1;32mIn[28], line 9\u001b[0m\n\u001b[0;32m      7\u001b[0m kpliegues \u001b[38;5;241m=\u001b[39m \u001b[38;5;241m10\u001b[39m\n\u001b[0;32m      8\u001b[0m Hiperparametros_Houses \u001b[38;5;241m=\u001b[39m busqueda_hiperparametros(estimator,hnames_estimator,hvalues_estimator,n_estimators,sample_size,lr,kpliegues,houses_attributes,houses_objective)\n\u001b[1;32m----> 9\u001b[0m Hiperparametros_Parkinson \u001b[38;5;241m=\u001b[39m busqueda_hiperparametros(estimator,hnames_estimator,hvalues_estimator,n_estimators,sample_size,lr,kpliegues,parkinsons_attributes,parkinsons_objective)\n\u001b[0;32m     10\u001b[0m \u001b[38;5;28mprint\u001b[39m(\u001b[38;5;124m\"\u001b[39m\u001b[38;5;124mConjunto de hiperparámetros(Viviendas):\u001b[39m\u001b[38;5;124m\"\u001b[39m )\n\u001b[0;32m     11\u001b[0m \u001b[38;5;28mprint\u001b[39m(Hiperparametros_Houses[\u001b[38;5;241m0\u001b[39m])\n",
      "Cell \u001b[1;32mIn[27], line 13\u001b[0m, in \u001b[0;36mbusqueda_hiperparametros\u001b[1;34m(estimator, hnames_estimator, hvalues_estimator, n_estimators, sample_size, lr, kpliegues, atributos_entrenamiento, objetivo_entrenamiento)\u001b[0m\n\u001b[0;32m     11\u001b[0m     rejilla_de_hiperparametros[name] \u001b[38;5;241m=\u001b[39m value\n\u001b[0;32m     12\u001b[0m busqueda_en_rejilla \u001b[38;5;241m=\u001b[39m GridSearchCV(tree,rejilla_de_hiperparametros,scoring \u001b[38;5;241m=\u001b[39m \u001b[38;5;124m'\u001b[39m\u001b[38;5;124mr2\u001b[39m\u001b[38;5;124m'\u001b[39m,cv\u001b[38;5;241m=\u001b[39mkpliegues)\n\u001b[1;32m---> 13\u001b[0m busqueda_en_rejilla\u001b[38;5;241m.\u001b[39mfit(atributos_entrenamiento,objetivo_entrenamiento)\n\u001b[0;32m     14\u001b[0m \u001b[38;5;28;01mreturn\u001b[39;00m [busqueda_en_rejilla\u001b[38;5;241m.\u001b[39mbest_params_,busqueda_en_rejilla\u001b[38;5;241m.\u001b[39mbest_score_]\n",
      "File \u001b[1;32m~\\anaconda3\\Lib\\site-packages\\sklearn\\base.py:1473\u001b[0m, in \u001b[0;36m_fit_context.<locals>.decorator.<locals>.wrapper\u001b[1;34m(estimator, *args, **kwargs)\u001b[0m\n\u001b[0;32m   1466\u001b[0m     estimator\u001b[38;5;241m.\u001b[39m_validate_params()\n\u001b[0;32m   1468\u001b[0m \u001b[38;5;28;01mwith\u001b[39;00m config_context(\n\u001b[0;32m   1469\u001b[0m     skip_parameter_validation\u001b[38;5;241m=\u001b[39m(\n\u001b[0;32m   1470\u001b[0m         prefer_skip_nested_validation \u001b[38;5;129;01mor\u001b[39;00m global_skip_validation\n\u001b[0;32m   1471\u001b[0m     )\n\u001b[0;32m   1472\u001b[0m ):\n\u001b[1;32m-> 1473\u001b[0m     \u001b[38;5;28;01mreturn\u001b[39;00m fit_method(estimator, \u001b[38;5;241m*\u001b[39margs, \u001b[38;5;241m*\u001b[39m\u001b[38;5;241m*\u001b[39mkwargs)\n",
      "File \u001b[1;32m~\\anaconda3\\Lib\\site-packages\\sklearn\\model_selection\\_search.py:1018\u001b[0m, in \u001b[0;36mBaseSearchCV.fit\u001b[1;34m(self, X, y, **params)\u001b[0m\n\u001b[0;32m   1012\u001b[0m     results \u001b[38;5;241m=\u001b[39m \u001b[38;5;28mself\u001b[39m\u001b[38;5;241m.\u001b[39m_format_results(\n\u001b[0;32m   1013\u001b[0m         all_candidate_params, n_splits, all_out, all_more_results\n\u001b[0;32m   1014\u001b[0m     )\n\u001b[0;32m   1016\u001b[0m     \u001b[38;5;28;01mreturn\u001b[39;00m results\n\u001b[1;32m-> 1018\u001b[0m \u001b[38;5;28mself\u001b[39m\u001b[38;5;241m.\u001b[39m_run_search(evaluate_candidates)\n\u001b[0;32m   1020\u001b[0m \u001b[38;5;66;03m# multimetric is determined here because in the case of a callable\u001b[39;00m\n\u001b[0;32m   1021\u001b[0m \u001b[38;5;66;03m# self.scoring the return type is only known after calling\u001b[39;00m\n\u001b[0;32m   1022\u001b[0m first_test_score \u001b[38;5;241m=\u001b[39m all_out[\u001b[38;5;241m0\u001b[39m][\u001b[38;5;124m\"\u001b[39m\u001b[38;5;124mtest_scores\u001b[39m\u001b[38;5;124m\"\u001b[39m]\n",
      "File \u001b[1;32m~\\anaconda3\\Lib\\site-packages\\sklearn\\model_selection\\_search.py:1572\u001b[0m, in \u001b[0;36mGridSearchCV._run_search\u001b[1;34m(self, evaluate_candidates)\u001b[0m\n\u001b[0;32m   1570\u001b[0m \u001b[38;5;28;01mdef\u001b[39;00m \u001b[38;5;21m_run_search\u001b[39m(\u001b[38;5;28mself\u001b[39m, evaluate_candidates):\n\u001b[0;32m   1571\u001b[0m \u001b[38;5;250m    \u001b[39m\u001b[38;5;124;03m\"\"\"Search all candidates in param_grid\"\"\"\u001b[39;00m\n\u001b[1;32m-> 1572\u001b[0m     evaluate_candidates(ParameterGrid(\u001b[38;5;28mself\u001b[39m\u001b[38;5;241m.\u001b[39mparam_grid))\n",
      "File \u001b[1;32m~\\anaconda3\\Lib\\site-packages\\sklearn\\model_selection\\_search.py:964\u001b[0m, in \u001b[0;36mBaseSearchCV.fit.<locals>.evaluate_candidates\u001b[1;34m(candidate_params, cv, more_results)\u001b[0m\n\u001b[0;32m    956\u001b[0m \u001b[38;5;28;01mif\u001b[39;00m \u001b[38;5;28mself\u001b[39m\u001b[38;5;241m.\u001b[39mverbose \u001b[38;5;241m>\u001b[39m \u001b[38;5;241m0\u001b[39m:\n\u001b[0;32m    957\u001b[0m     \u001b[38;5;28mprint\u001b[39m(\n\u001b[0;32m    958\u001b[0m         \u001b[38;5;124m\"\u001b[39m\u001b[38;5;124mFitting \u001b[39m\u001b[38;5;132;01m{0}\u001b[39;00m\u001b[38;5;124m folds for each of \u001b[39m\u001b[38;5;132;01m{1}\u001b[39;00m\u001b[38;5;124m candidates,\u001b[39m\u001b[38;5;124m\"\u001b[39m\n\u001b[0;32m    959\u001b[0m         \u001b[38;5;124m\"\u001b[39m\u001b[38;5;124m totalling \u001b[39m\u001b[38;5;132;01m{2}\u001b[39;00m\u001b[38;5;124m fits\u001b[39m\u001b[38;5;124m\"\u001b[39m\u001b[38;5;241m.\u001b[39mformat(\n\u001b[0;32m    960\u001b[0m             n_splits, n_candidates, n_candidates \u001b[38;5;241m*\u001b[39m n_splits\n\u001b[0;32m    961\u001b[0m         )\n\u001b[0;32m    962\u001b[0m     )\n\u001b[1;32m--> 964\u001b[0m out \u001b[38;5;241m=\u001b[39m parallel(\n\u001b[0;32m    965\u001b[0m     delayed(_fit_and_score)(\n\u001b[0;32m    966\u001b[0m         clone(base_estimator),\n\u001b[0;32m    967\u001b[0m         X,\n\u001b[0;32m    968\u001b[0m         y,\n\u001b[0;32m    969\u001b[0m         train\u001b[38;5;241m=\u001b[39mtrain,\n\u001b[0;32m    970\u001b[0m         test\u001b[38;5;241m=\u001b[39mtest,\n\u001b[0;32m    971\u001b[0m         parameters\u001b[38;5;241m=\u001b[39mparameters,\n\u001b[0;32m    972\u001b[0m         split_progress\u001b[38;5;241m=\u001b[39m(split_idx, n_splits),\n\u001b[0;32m    973\u001b[0m         candidate_progress\u001b[38;5;241m=\u001b[39m(cand_idx, n_candidates),\n\u001b[0;32m    974\u001b[0m         \u001b[38;5;241m*\u001b[39m\u001b[38;5;241m*\u001b[39mfit_and_score_kwargs,\n\u001b[0;32m    975\u001b[0m     )\n\u001b[0;32m    976\u001b[0m     \u001b[38;5;28;01mfor\u001b[39;00m (cand_idx, parameters), (split_idx, (train, test)) \u001b[38;5;129;01min\u001b[39;00m product(\n\u001b[0;32m    977\u001b[0m         \u001b[38;5;28menumerate\u001b[39m(candidate_params),\n\u001b[0;32m    978\u001b[0m         \u001b[38;5;28menumerate\u001b[39m(cv\u001b[38;5;241m.\u001b[39msplit(X, y, \u001b[38;5;241m*\u001b[39m\u001b[38;5;241m*\u001b[39mrouted_params\u001b[38;5;241m.\u001b[39msplitter\u001b[38;5;241m.\u001b[39msplit)),\n\u001b[0;32m    979\u001b[0m     )\n\u001b[0;32m    980\u001b[0m )\n\u001b[0;32m    982\u001b[0m \u001b[38;5;28;01mif\u001b[39;00m \u001b[38;5;28mlen\u001b[39m(out) \u001b[38;5;241m<\u001b[39m \u001b[38;5;241m1\u001b[39m:\n\u001b[0;32m    983\u001b[0m     \u001b[38;5;28;01mraise\u001b[39;00m \u001b[38;5;167;01mValueError\u001b[39;00m(\n\u001b[0;32m    984\u001b[0m         \u001b[38;5;124m\"\u001b[39m\u001b[38;5;124mNo fits were performed. \u001b[39m\u001b[38;5;124m\"\u001b[39m\n\u001b[0;32m    985\u001b[0m         \u001b[38;5;124m\"\u001b[39m\u001b[38;5;124mWas the CV iterator empty? \u001b[39m\u001b[38;5;124m\"\u001b[39m\n\u001b[0;32m    986\u001b[0m         \u001b[38;5;124m\"\u001b[39m\u001b[38;5;124mWere there no candidates?\u001b[39m\u001b[38;5;124m\"\u001b[39m\n\u001b[0;32m    987\u001b[0m     )\n",
      "File \u001b[1;32m~\\anaconda3\\Lib\\site-packages\\sklearn\\utils\\parallel.py:74\u001b[0m, in \u001b[0;36mParallel.__call__\u001b[1;34m(self, iterable)\u001b[0m\n\u001b[0;32m     69\u001b[0m config \u001b[38;5;241m=\u001b[39m get_config()\n\u001b[0;32m     70\u001b[0m iterable_with_config \u001b[38;5;241m=\u001b[39m (\n\u001b[0;32m     71\u001b[0m     (_with_config(delayed_func, config), args, kwargs)\n\u001b[0;32m     72\u001b[0m     \u001b[38;5;28;01mfor\u001b[39;00m delayed_func, args, kwargs \u001b[38;5;129;01min\u001b[39;00m iterable\n\u001b[0;32m     73\u001b[0m )\n\u001b[1;32m---> 74\u001b[0m \u001b[38;5;28;01mreturn\u001b[39;00m \u001b[38;5;28msuper\u001b[39m()\u001b[38;5;241m.\u001b[39m\u001b[38;5;21m__call__\u001b[39m(iterable_with_config)\n",
      "File \u001b[1;32m~\\anaconda3\\Lib\\site-packages\\joblib\\parallel.py:1918\u001b[0m, in \u001b[0;36mParallel.__call__\u001b[1;34m(self, iterable)\u001b[0m\n\u001b[0;32m   1916\u001b[0m     output \u001b[38;5;241m=\u001b[39m \u001b[38;5;28mself\u001b[39m\u001b[38;5;241m.\u001b[39m_get_sequential_output(iterable)\n\u001b[0;32m   1917\u001b[0m     \u001b[38;5;28mnext\u001b[39m(output)\n\u001b[1;32m-> 1918\u001b[0m     \u001b[38;5;28;01mreturn\u001b[39;00m output \u001b[38;5;28;01mif\u001b[39;00m \u001b[38;5;28mself\u001b[39m\u001b[38;5;241m.\u001b[39mreturn_generator \u001b[38;5;28;01melse\u001b[39;00m \u001b[38;5;28mlist\u001b[39m(output)\n\u001b[0;32m   1920\u001b[0m \u001b[38;5;66;03m# Let's create an ID that uniquely identifies the current call. If the\u001b[39;00m\n\u001b[0;32m   1921\u001b[0m \u001b[38;5;66;03m# call is interrupted early and that the same instance is immediately\u001b[39;00m\n\u001b[0;32m   1922\u001b[0m \u001b[38;5;66;03m# re-used, this id will be used to prevent workers that were\u001b[39;00m\n\u001b[0;32m   1923\u001b[0m \u001b[38;5;66;03m# concurrently finalizing a task from the previous call to run the\u001b[39;00m\n\u001b[0;32m   1924\u001b[0m \u001b[38;5;66;03m# callback.\u001b[39;00m\n\u001b[0;32m   1925\u001b[0m \u001b[38;5;28;01mwith\u001b[39;00m \u001b[38;5;28mself\u001b[39m\u001b[38;5;241m.\u001b[39m_lock:\n",
      "File \u001b[1;32m~\\anaconda3\\Lib\\site-packages\\joblib\\parallel.py:1847\u001b[0m, in \u001b[0;36mParallel._get_sequential_output\u001b[1;34m(self, iterable)\u001b[0m\n\u001b[0;32m   1845\u001b[0m \u001b[38;5;28mself\u001b[39m\u001b[38;5;241m.\u001b[39mn_dispatched_batches \u001b[38;5;241m+\u001b[39m\u001b[38;5;241m=\u001b[39m \u001b[38;5;241m1\u001b[39m\n\u001b[0;32m   1846\u001b[0m \u001b[38;5;28mself\u001b[39m\u001b[38;5;241m.\u001b[39mn_dispatched_tasks \u001b[38;5;241m+\u001b[39m\u001b[38;5;241m=\u001b[39m \u001b[38;5;241m1\u001b[39m\n\u001b[1;32m-> 1847\u001b[0m res \u001b[38;5;241m=\u001b[39m func(\u001b[38;5;241m*\u001b[39margs, \u001b[38;5;241m*\u001b[39m\u001b[38;5;241m*\u001b[39mkwargs)\n\u001b[0;32m   1848\u001b[0m \u001b[38;5;28mself\u001b[39m\u001b[38;5;241m.\u001b[39mn_completed_tasks \u001b[38;5;241m+\u001b[39m\u001b[38;5;241m=\u001b[39m \u001b[38;5;241m1\u001b[39m\n\u001b[0;32m   1849\u001b[0m \u001b[38;5;28mself\u001b[39m\u001b[38;5;241m.\u001b[39mprint_progress()\n",
      "File \u001b[1;32m~\\anaconda3\\Lib\\site-packages\\sklearn\\utils\\parallel.py:136\u001b[0m, in \u001b[0;36m_FuncWrapper.__call__\u001b[1;34m(self, *args, **kwargs)\u001b[0m\n\u001b[0;32m    134\u001b[0m     config \u001b[38;5;241m=\u001b[39m {}\n\u001b[0;32m    135\u001b[0m \u001b[38;5;28;01mwith\u001b[39;00m config_context(\u001b[38;5;241m*\u001b[39m\u001b[38;5;241m*\u001b[39mconfig):\n\u001b[1;32m--> 136\u001b[0m     \u001b[38;5;28;01mreturn\u001b[39;00m \u001b[38;5;28mself\u001b[39m\u001b[38;5;241m.\u001b[39mfunction(\u001b[38;5;241m*\u001b[39margs, \u001b[38;5;241m*\u001b[39m\u001b[38;5;241m*\u001b[39mkwargs)\n",
      "File \u001b[1;32m~\\anaconda3\\Lib\\site-packages\\sklearn\\model_selection\\_validation.py:888\u001b[0m, in \u001b[0;36m_fit_and_score\u001b[1;34m(estimator, X, y, scorer, train, test, verbose, parameters, fit_params, score_params, return_train_score, return_parameters, return_n_test_samples, return_times, return_estimator, split_progress, candidate_progress, error_score)\u001b[0m\n\u001b[0;32m    886\u001b[0m         estimator\u001b[38;5;241m.\u001b[39mfit(X_train, \u001b[38;5;241m*\u001b[39m\u001b[38;5;241m*\u001b[39mfit_params)\n\u001b[0;32m    887\u001b[0m     \u001b[38;5;28;01melse\u001b[39;00m:\n\u001b[1;32m--> 888\u001b[0m         estimator\u001b[38;5;241m.\u001b[39mfit(X_train, y_train, \u001b[38;5;241m*\u001b[39m\u001b[38;5;241m*\u001b[39mfit_params)\n\u001b[0;32m    890\u001b[0m \u001b[38;5;28;01mexcept\u001b[39;00m \u001b[38;5;167;01mException\u001b[39;00m:\n\u001b[0;32m    891\u001b[0m     \u001b[38;5;66;03m# Note fit time as time until error\u001b[39;00m\n\u001b[0;32m    892\u001b[0m     fit_time \u001b[38;5;241m=\u001b[39m time\u001b[38;5;241m.\u001b[39mtime() \u001b[38;5;241m-\u001b[39m start_time\n",
      "Cell \u001b[1;32mIn[4], line 33\u001b[0m, in \u001b[0;36mSequentialRegressor.fit\u001b[1;34m(self, attributes, objective)\u001b[0m\n\u001b[0;32m     31\u001b[0m objective_i \u001b[38;5;241m=\u001b[39m remainder_i[selected]\n\u001b[0;32m     32\u001b[0m model \u001b[38;5;241m=\u001b[39m clone(\u001b[38;5;28mself\u001b[39m\u001b[38;5;241m.\u001b[39mestimator) \u001b[38;5;66;03m# Aseguramos así que utilizamos siempre un modelo nuevo no entrenado\u001b[39;00m\n\u001b[1;32m---> 33\u001b[0m model\u001b[38;5;241m.\u001b[39mfit(samples_i, objective_i)\n\u001b[0;32m     34\u001b[0m \u001b[38;5;28mself\u001b[39m\u001b[38;5;241m.\u001b[39mmodels\u001b[38;5;241m.\u001b[39mappend(model)\n\u001b[0;32m     35\u001b[0m prediction_i \u001b[38;5;241m=\u001b[39m model\u001b[38;5;241m.\u001b[39mpredict(attributes)\n",
      "File \u001b[1;32m~\\anaconda3\\Lib\\site-packages\\sklearn\\base.py:1473\u001b[0m, in \u001b[0;36m_fit_context.<locals>.decorator.<locals>.wrapper\u001b[1;34m(estimator, *args, **kwargs)\u001b[0m\n\u001b[0;32m   1466\u001b[0m     estimator\u001b[38;5;241m.\u001b[39m_validate_params()\n\u001b[0;32m   1468\u001b[0m \u001b[38;5;28;01mwith\u001b[39;00m config_context(\n\u001b[0;32m   1469\u001b[0m     skip_parameter_validation\u001b[38;5;241m=\u001b[39m(\n\u001b[0;32m   1470\u001b[0m         prefer_skip_nested_validation \u001b[38;5;129;01mor\u001b[39;00m global_skip_validation\n\u001b[0;32m   1471\u001b[0m     )\n\u001b[0;32m   1472\u001b[0m ):\n\u001b[1;32m-> 1473\u001b[0m     \u001b[38;5;28;01mreturn\u001b[39;00m fit_method(estimator, \u001b[38;5;241m*\u001b[39margs, \u001b[38;5;241m*\u001b[39m\u001b[38;5;241m*\u001b[39mkwargs)\n",
      "File \u001b[1;32m~\\anaconda3\\Lib\\site-packages\\sklearn\\tree\\_classes.py:1377\u001b[0m, in \u001b[0;36mDecisionTreeRegressor.fit\u001b[1;34m(self, X, y, sample_weight, check_input)\u001b[0m\n\u001b[0;32m   1347\u001b[0m \u001b[38;5;129m@_fit_context\u001b[39m(prefer_skip_nested_validation\u001b[38;5;241m=\u001b[39m\u001b[38;5;28;01mTrue\u001b[39;00m)\n\u001b[0;32m   1348\u001b[0m \u001b[38;5;28;01mdef\u001b[39;00m \u001b[38;5;21mfit\u001b[39m(\u001b[38;5;28mself\u001b[39m, X, y, sample_weight\u001b[38;5;241m=\u001b[39m\u001b[38;5;28;01mNone\u001b[39;00m, check_input\u001b[38;5;241m=\u001b[39m\u001b[38;5;28;01mTrue\u001b[39;00m):\n\u001b[0;32m   1349\u001b[0m \u001b[38;5;250m    \u001b[39m\u001b[38;5;124;03m\"\"\"Build a decision tree regressor from the training set (X, y).\u001b[39;00m\n\u001b[0;32m   1350\u001b[0m \n\u001b[0;32m   1351\u001b[0m \u001b[38;5;124;03m    Parameters\u001b[39;00m\n\u001b[1;32m   (...)\u001b[0m\n\u001b[0;32m   1374\u001b[0m \u001b[38;5;124;03m        Fitted estimator.\u001b[39;00m\n\u001b[0;32m   1375\u001b[0m \u001b[38;5;124;03m    \"\"\"\u001b[39;00m\n\u001b[1;32m-> 1377\u001b[0m     \u001b[38;5;28msuper\u001b[39m()\u001b[38;5;241m.\u001b[39m_fit(\n\u001b[0;32m   1378\u001b[0m         X,\n\u001b[0;32m   1379\u001b[0m         y,\n\u001b[0;32m   1380\u001b[0m         sample_weight\u001b[38;5;241m=\u001b[39msample_weight,\n\u001b[0;32m   1381\u001b[0m         check_input\u001b[38;5;241m=\u001b[39mcheck_input,\n\u001b[0;32m   1382\u001b[0m     )\n\u001b[0;32m   1383\u001b[0m     \u001b[38;5;28;01mreturn\u001b[39;00m \u001b[38;5;28mself\u001b[39m\n",
      "File \u001b[1;32m~\\anaconda3\\Lib\\site-packages\\sklearn\\tree\\_classes.py:472\u001b[0m, in \u001b[0;36mBaseDecisionTree._fit\u001b[1;34m(self, X, y, sample_weight, check_input, missing_values_in_feature_mask)\u001b[0m\n\u001b[0;32m    461\u001b[0m \u001b[38;5;28;01melse\u001b[39;00m:\n\u001b[0;32m    462\u001b[0m     builder \u001b[38;5;241m=\u001b[39m BestFirstTreeBuilder(\n\u001b[0;32m    463\u001b[0m         splitter,\n\u001b[0;32m    464\u001b[0m         min_samples_split,\n\u001b[1;32m   (...)\u001b[0m\n\u001b[0;32m    469\u001b[0m         \u001b[38;5;28mself\u001b[39m\u001b[38;5;241m.\u001b[39mmin_impurity_decrease,\n\u001b[0;32m    470\u001b[0m     )\n\u001b[1;32m--> 472\u001b[0m builder\u001b[38;5;241m.\u001b[39mbuild(\u001b[38;5;28mself\u001b[39m\u001b[38;5;241m.\u001b[39mtree_, X, y, sample_weight, missing_values_in_feature_mask)\n\u001b[0;32m    474\u001b[0m \u001b[38;5;28;01mif\u001b[39;00m \u001b[38;5;28mself\u001b[39m\u001b[38;5;241m.\u001b[39mn_outputs_ \u001b[38;5;241m==\u001b[39m \u001b[38;5;241m1\u001b[39m \u001b[38;5;129;01mand\u001b[39;00m is_classifier(\u001b[38;5;28mself\u001b[39m):\n\u001b[0;32m    475\u001b[0m     \u001b[38;5;28mself\u001b[39m\u001b[38;5;241m.\u001b[39mn_classes_ \u001b[38;5;241m=\u001b[39m \u001b[38;5;28mself\u001b[39m\u001b[38;5;241m.\u001b[39mn_classes_[\u001b[38;5;241m0\u001b[39m]\n",
      "\u001b[1;31mKeyboardInterrupt\u001b[0m: "
     ]
    }
   ],
   "source": [
    "estimator = DecisionTreeRegressor()\n",
    "hnames_estimator = ['max_depth','min_samples_split']\n",
    "hvalues_estimator = [[3,5,7,10],[2,5,10]]\n",
    "n_estimators = range(4,10)\n",
    "sample_size = [i/10 for i in range(5,11,2)]\n",
    "lr = [i/10 for i in range(5,11,2)]\n",
    "kpliegues = 10\n",
    "Hiperparametros_Houses = busqueda_hiperparametros(estimator,hnames_estimator,hvalues_estimator,n_estimators,sample_size,lr,kpliegues,houses_attributes,houses_objective)\n",
    "Hiperparametros_Parkinson = busqueda_hiperparametros(estimator,hnames_estimator,hvalues_estimator,n_estimators,sample_size,lr,kpliegues,parkinsons_attributes,parkinsons_objective)\n",
    "print(\"Conjunto de hiperparámetros(Viviendas):\" )\n",
    "print(Hiperparametros_Houses[0])\n",
    "print(\"Coeficiente de determinación para el mejor conjunto de hiperparámetros = \"+ str(Hiperparametros_Houses[1]))\n",
    "print(\"Conjunto de hiperparámetros(Parkinson):\")\n",
    "print(Hiperparametros_Parkinson[0])\n",
    "print(\"Coeficiente de determinación para el mejor conjunto de hiperparámetros = \"+ str(Hiperparametros_Parkinson[1]))"
   ]
  },
  {
   "cell_type": "markdown",
   "id": "8f4f15d9",
   "metadata": {},
   "source": [
    "Ahora continuamos analizando hiperparámetros pero con el estimador **KNN** con validación cruzada"
   ]
  },
  {
   "cell_type": "code",
   "execution_count": 34,
   "id": "df7e0122",
   "metadata": {},
   "outputs": [
    {
     "name": "stdout",
     "output_type": "stream",
     "text": [
      "Conjunto de hiperparámetros(Viviendas):\n",
      "{'estimator__n_neighbors': 7, 'estimator__p': 1, 'estimator__weights': 'distance', 'lr': 0.7, 'n_estimators': 9, 'sample_size': 0.5}\n",
      "Coeficiente de determinación para el mejor conjunto de hiperparámetros = 0.7402516940036891\n",
      "Conjunto de hiperparámetros(Parkinson):\n",
      "{'estimator__n_neighbors': 5, 'estimator__p': 1, 'estimator__weights': 'distance', 'lr': 0.5, 'n_estimators': 9, 'sample_size': 0.9}\n",
      "Coeficiente de determinación para el mejor conjunto de hiperparámetros = 0.611870910121626\n"
     ]
    }
   ],
   "source": [
    "estimator = KNeighborsRegressor()\n",
    "hnames_estimator = ['n_neighbors','weights','p']\n",
    "hvalues_estimator = [[3,5,7],['uniform', 'distance'],[1, 2]]# p1 = Manhattan, p2 = Euclidean\n",
    "n_estimators = range(4,10)\n",
    "sample_size = [i/10 for i in range(5,11,2)]\n",
    "lr = [i/10 for i in range(5,11,2)]\n",
    "kpliegues = 10\n",
    "Hiperparametros_Houses = busqueda_hiperparametros(estimator,hnames_estimator,hvalues_estimator,n_estimators,sample_size,lr,kpliegues,houses_attributes,houses_objective)\n",
    "Hiperparametros_Parkinson = busqueda_hiperparametros(estimator,hnames_estimator,hvalues_estimator,n_estimators,sample_size,lr,kpliegues,parkinsons_attributes,parkinsons_objective)\n",
    "print(\"Conjunto de hiperparámetros(Viviendas):\" )\n",
    "print(Hiperparametros_Houses[0])\n",
    "print(\"Coeficiente de determinación para el mejor conjunto de hiperparámetros = \"+ str(Hiperparametros_Houses[1]))\n",
    "print(\"Conjunto de hiperparámetros(Parkinson):\")\n",
    "print(Hiperparametros_Parkinson[0])\n",
    "print(\"Coeficiente de determinación para el mejor conjunto de hiperparámetros = \"+ str(Hiperparametros_Parkinson[1]))"
   ]
  },
  {
   "cell_type": "markdown",
   "id": "bc65a2d7",
   "metadata": {},
   "source": [
    "Hay que tener en cuenta que para analizar un rango de hiperparámetros más alto, el tiempo de cálculo de busqueda en rejilla será mayor."
   ]
  },
  {
   "cell_type": "markdown",
   "id": "a22d2ba3",
   "metadata": {},
   "source": [
    "Una vez conocidos los mejores valores de los hiperparámetros de cada modelo en ensamble secuencial, procedemos a calcular el **coeficiente de determinación y el error absoluto medio**."
   ]
  },
  {
   "cell_type": "markdown",
   "id": "3368da14",
   "metadata": {},
   "source": [
    "**Algoritmo CART con mejor conjunto de hiperparámetros**"
   ]
  },
  {
   "cell_type": "code",
   "execution_count": 41,
   "id": "778c1e02",
   "metadata": {},
   "outputs": [],
   "source": [
    "hyperparametersTreeHouses = {\n",
    "    'max_depth' : 5,\n",
    "    'min_samples_split': 10\n",
    "}\n",
    "hyperparametersTreeParkinson = {\n",
    "    'max_depth' : 10,\n",
    "    'min_samples_split': 5\n",
    "}"
   ]
  },
  {
   "cell_type": "code",
   "execution_count": 42,
   "id": "1fdd32e1",
   "metadata": {},
   "outputs": [
    {
     "name": "stdout",
     "output_type": "stream",
     "text": [
      "Coeficiente de determinación (Viviendas): 0.7034886782895259\n",
      "Coeficiente de determinación (Parkinson): 0.9152808633950024\n",
      "Error absoluto medio (Viviendas): 26269.38651411226\n",
      "Error absoluto medio (Parkinson): 1.7322292925307603\n"
     ]
    }
   ],
   "source": [
    "housesTree = SequentialRegressor(DecisionTreeRegressor(), n_estimators=8, sample_size=0.9, lr=0.5, hyperparameters=hyperparametersTreeHouses)\n",
    "parkinsonsTree = SequentialRegressor(DecisionTreeRegressor(), n_estimators=8, sample_size=0.9, lr=0.5, hyperparameters=hyperparametersTreeParkinson)\n",
    "housesResults = housesTree.evaluate(houses_attributes, houses_objective, 10)\n",
    "parkinsonsResults = parkinsonsTree.evaluate(parkinsons_attributes, parkinsons_objective, 10)\n",
    "print(\"Coeficiente de determinación (Viviendas): \" + str(housesResults['r2']))\n",
    "print(\"Coeficiente de determinación (Parkinson): \" + str(parkinsonsResults['r2']))\n",
    "print(\"Error absoluto medio (Viviendas): \" + str(-housesResults['neg_mean_absolute_error']))\n",
    "print(\"Error absoluto medio (Parkinson): \" + str(-parkinsonsResults['neg_mean_absolute_error']))"
   ]
  },
  {
   "cell_type": "markdown",
   "id": "0ecaebea",
   "metadata": {},
   "source": [
    "**Algoritmo KNN con mejor conjunto de hiperparámetros**"
   ]
  },
  {
   "cell_type": "code",
   "execution_count": 37,
   "id": "ddab0dfa",
   "metadata": {},
   "outputs": [],
   "source": [
    "hyperparametersKNNHouses = {\n",
    "    'n_neighbors' : 7,\n",
    "    'metric': 'manhattan',\n",
    "    'weights': 'distance'\n",
    "}\n",
    "hyperparametersKNNParkinson = {\n",
    "    'n_neighbors' : 5,\n",
    "    'metric': 'manhattan',\n",
    "    'weights': 'distance'\n",
    "}"
   ]
  },
  {
   "cell_type": "code",
   "execution_count": 38,
   "id": "a1e0e21d",
   "metadata": {},
   "outputs": [
    {
     "name": "stdout",
     "output_type": "stream",
     "text": [
      "Coeficiente de determinación (Viviendas): 0.7439238963343462\n",
      "Coeficiente de determinación (Parkinson): 0.6096091613818606\n",
      "Error absoluto medio (Viviendas): 24567.568054759802\n",
      "Error absoluto medio (Parkinson): 4.279480915539421\n"
     ]
    }
   ],
   "source": [
    "housesKNN = SequentialRegressor(KNeighborsRegressor(), n_estimators=9, sample_size=0.5, lr=0.7, hyperparameters=hyperparametersKNNHouses)\n",
    "parkinsonsKNN = SequentialRegressor(KNeighborsRegressor(), n_estimators=9, sample_size=0.9, lr=0.5, hyperparameters=hyperparametersKNNParkinson)\n",
    "housesResults = housesKNN.evaluate(houses_attributes, houses_objective, 10)\n",
    "parkinsonsResults = parkinsonsKNN.evaluate(parkinsons_attributes, parkinsons_objective, 10)\n",
    "print(\"Coeficiente de determinación (Viviendas): \" + str(housesResults['r2']))\n",
    "print(\"Coeficiente de determinación (Parkinson): \" + str(parkinsonsResults['r2']))\n",
    "print(\"Error absoluto medio (Viviendas): \" + str(-housesResults['neg_mean_absolute_error']))\n",
    "print(\"Error absoluto medio (Parkinson): \" + str(-parkinsonsResults['neg_mean_absolute_error']))"
   ]
  },
  {
   "cell_type": "markdown",
   "id": "7733bf6f",
   "metadata": {},
   "source": [
    "<h4>Evaluación de modelos individuales con los mejores hiperparámetros</h4>"
   ]
  },
  {
   "cell_type": "markdown",
   "id": "55b4110a",
   "metadata": {},
   "source": [
    "Usaremos la misma función definida anteriormente pero para usar un modelo predictivo individualmente y no la clase de ensamblado secuencial."
   ]
  },
  {
   "cell_type": "code",
   "execution_count": 49,
   "id": "312668c5",
   "metadata": {},
   "outputs": [],
   "source": [
    "def busqueda_hiperparametrosU(estimator,hnames_estimator,hvalues_estimator,n_estimators,sample_size,lr,kpliegues,atributos_entrenamiento,objetivo_entrenamiento):\n",
    "    tree = estimator\n",
    "    rejilla_de_hiperparametros = {}\n",
    "    for i in range(len(hnames_estimator)):#toma los nombres y los valores de los hiperparámetros del estimador correspondiente y lo añade al diccionario de hiperparámetros.\n",
    "        name =  hnames_estimator[i]\n",
    "        value = hvalues_estimator[i]\n",
    "        rejilla_de_hiperparametros[name] = value\n",
    "    busqueda_en_rejilla = GridSearchCV(tree,rejilla_de_hiperparametros,scoring = 'r2',cv=kpliegues)\n",
    "    busqueda_en_rejilla.fit(atributos_entrenamiento,objetivo_entrenamiento)\n",
    "    return [busqueda_en_rejilla.best_params_,busqueda_en_rejilla.best_score_] "
   ]
  },
  {
   "cell_type": "markdown",
   "id": "34ca9022",
   "metadata": {},
   "source": [
    "**Modelo KNN**"
   ]
  },
  {
   "cell_type": "code",
   "execution_count": 50,
   "id": "ffe685f2",
   "metadata": {},
   "outputs": [
    {
     "name": "stdout",
     "output_type": "stream",
     "text": [
      "Conjunto de hiperparámetros(Viviendas):\n",
      "{'n_neighbors': 7, 'p': 1, 'weights': 'distance'}\n",
      "Coeficiente de determinación para el mejor conjunto de hiperparámetros = 0.7131753308742153\n",
      "Conjunto de hiperparámetros(Parkinson):\n",
      "{'n_neighbors': 5, 'p': 1, 'weights': 'distance'}\n",
      "Coeficiente de determinación para el mejor conjunto de hiperparámetros = 0.6047311312834615\n"
     ]
    }
   ],
   "source": [
    "estimator = KNeighborsRegressor()\n",
    "hnames_estimator = ['n_neighbors','weights','p']\n",
    "hvalues_estimator = [[3,5,7],['uniform', 'distance'],[1, 2]]# p1 = Manhattan, p2 = Euclidean\n",
    "n_estimators = range(4,10)\n",
    "sample_size = [i/10 for i in range(5,11,2)]\n",
    "lr = [i/10 for i in range(5,11,2)]\n",
    "kpliegues = 10\n",
    "Hiperparametros_Houses = busqueda_hiperparametrosU(estimator,hnames_estimator,hvalues_estimator,n_estimators,sample_size,lr,kpliegues,houses_attributes,houses_objective)\n",
    "Hiperparametros_Parkinson = busqueda_hiperparametrosU(estimator,hnames_estimator,hvalues_estimator,n_estimators,sample_size,lr,kpliegues,parkinsons_attributes,parkinsons_objective)\n",
    "print(\"Conjunto de hiperparámetros(Viviendas):\" )\n",
    "print(Hiperparametros_Houses[0])\n",
    "print(\"Coeficiente de determinación para el mejor conjunto de hiperparámetros = \"+ str(Hiperparametros_Houses[1]))\n",
    "print(\"Conjunto de hiperparámetros(Parkinson):\")\n",
    "print(Hiperparametros_Parkinson[0])\n",
    "print(\"Coeficiente de determinación para el mejor conjunto de hiperparámetros = \"+ str(Hiperparametros_Parkinson[1]))"
   ]
  },
  {
   "cell_type": "markdown",
   "id": "27920fef",
   "metadata": {},
   "source": [
    "**Modelo CART**"
   ]
  },
  {
   "cell_type": "code",
   "execution_count": 51,
   "id": "2abe65b1",
   "metadata": {},
   "outputs": [
    {
     "name": "stdout",
     "output_type": "stream",
     "text": [
      "Conjunto de hiperparámetros(Viviendas):\n",
      "{'max_depth': 7, 'min_samples_split': 2}\n",
      "Coeficiente de determinación para el mejor conjunto de hiperparámetros = 0.5591763133192977\n",
      "Conjunto de hiperparámetros(Parkinson):\n",
      "{'max_depth': 10, 'min_samples_split': 2}\n",
      "Coeficiente de determinación para el mejor conjunto de hiperparámetros = 0.8469278108639811\n"
     ]
    }
   ],
   "source": [
    "estimator = DecisionTreeRegressor()\n",
    "hnames_estimator = ['max_depth','min_samples_split']\n",
    "hvalues_estimator = [[3,5,7,10],[2,5,10]]\n",
    "n_estimators = range(4,10)\n",
    "sample_size = [i/10 for i in range(5,11,2)]\n",
    "lr = [i/10 for i in range(5,11,2)]\n",
    "kpliegues = 10\n",
    "Hiperparametros_Houses = busqueda_hiperparametrosU(estimator,hnames_estimator,hvalues_estimator,n_estimators,sample_size,lr,kpliegues,houses_attributes,houses_objective)\n",
    "Hiperparametros_Parkinson = busqueda_hiperparametrosU(estimator,hnames_estimator,hvalues_estimator,n_estimators,sample_size,lr,kpliegues,parkinsons_attributes,parkinsons_objective)\n",
    "print(\"Conjunto de hiperparámetros(Viviendas):\" )\n",
    "print(Hiperparametros_Houses[0])\n",
    "print(\"Coeficiente de determinación para el mejor conjunto de hiperparámetros = \"+ str(Hiperparametros_Houses[1]))\n",
    "print(\"Conjunto de hiperparámetros(Parkinson):\")\n",
    "print(Hiperparametros_Parkinson[0])\n",
    "print(\"Coeficiente de determinación para el mejor conjunto de hiperparámetros = \"+ str(Hiperparametros_Parkinson[1]))"
   ]
  },
  {
   "cell_type": "markdown",
   "id": "a6bf56c1",
   "metadata": {},
   "source": [
    "Procedemos a calcular el coeficiente de determinación y el error absoluto medio de los modelos únicos con los hiperparámetros."
   ]
  },
  {
   "cell_type": "markdown",
   "id": "9fb703ca",
   "metadata": {},
   "source": [
    "**KNN** con los mejores hiperparámetros"
   ]
  },
  {
   "cell_type": "code",
   "execution_count": 53,
   "id": "d5036986",
   "metadata": {},
   "outputs": [
    {
     "name": "stdout",
     "output_type": "stream",
     "text": [
      "Coeficiente de determinación (Viviendas): 0.7131753308742153\n",
      "Coeficiente de determinación (Parkinson): 0.6047311312834615\n",
      "Error absoluto medio (Viviendas): 25591.467621021624\n",
      "Error absoluto medio (Parkinson): 4.2671918508687545\n"
     ]
    }
   ],
   "source": [
    "housesKNN = KNeighborsRegressor(n_neighbors=7, metric='manhattan',weights ='distance')\n",
    "parkinsonsKNN = KNeighborsRegressor(n_neighbors=5, metric='manhattan',weights ='distance')\n",
    "housesResults = cross_validate(housesKNN, houses_attributes, houses_objective, scoring=['r2', 'neg_mean_absolute_error'], cv=10)\n",
    "parkinsonsResults = cross_validate(parkinsonsKNN, parkinsons_attributes, parkinsons_objective, scoring=['r2', 'neg_mean_absolute_error'], cv=10)\n",
    "print(\"Coeficiente de determinación (Viviendas): \" + str(housesResults['test_r2'].mean()))\n",
    "print(\"Coeficiente de determinación (Parkinson): \" + str(parkinsonsResults['test_r2'].mean()))\n",
    "print(\"Error absoluto medio (Viviendas): \" + str(-housesResults['test_neg_mean_absolute_error'].mean()))\n",
    "print(\"Error absoluto medio (Parkinson): \" + str(-parkinsonsResults['test_neg_mean_absolute_error'].mean()))"
   ]
  },
  {
   "cell_type": "markdown",
   "id": "9fd5eb8a",
   "metadata": {},
   "source": [
    "**CART** con los mejores hiperparámetros"
   ]
  },
  {
   "cell_type": "code",
   "execution_count": 54,
   "id": "07420843",
   "metadata": {},
   "outputs": [
    {
     "name": "stdout",
     "output_type": "stream",
     "text": [
      "Coeficiente de determinación (Viviendas): 0.40127009885222176\n",
      "Coeficiente de determinación (Parkinson): 0.8447551294661606\n",
      "Error absoluto medio (Viviendas): 32708.005599707238\n",
      "Error absoluto medio (Parkinson): 1.8463439532080568\n"
     ]
    }
   ],
   "source": [
    "housesTree = DecisionTreeRegressor(max_depth=7, min_samples_split=2)\n",
    "parkinsonsTree = DecisionTreeRegressor(max_depth=10, min_samples_split=2)\n",
    "housesResults = cross_validate(housesTree, houses_attributes, houses_objective, scoring=['r2', 'neg_mean_absolute_error'], cv=10)\n",
    "parkinsonsResults = cross_validate(parkinsonsTree, parkinsons_attributes, parkinsons_objective, scoring=['r2', 'neg_mean_absolute_error'], cv=10)\n",
    "print(\"Coeficiente de determinación (Viviendas): \" + str(housesResults['test_r2'].mean()))\n",
    "print(\"Coeficiente de determinación (Parkinson): \" + str(parkinsonsResults['test_r2'].mean()))\n",
    "print(\"Error absoluto medio (Viviendas): \" + str(-housesResults['test_neg_mean_absolute_error'].mean()))\n",
    "print(\"Error absoluto medio (Parkinson): \" + str(-parkinsonsResults['test_neg_mean_absolute_error'].mean()))"
   ]
  }
 ],
 "metadata": {
  "kernelspec": {
   "display_name": "Python 3 (ipykernel)",
   "language": "python",
   "name": "python3"
  },
  "language_info": {
   "codemirror_mode": {
    "name": "ipython",
    "version": 3
   },
   "file_extension": ".py",
   "mimetype": "text/x-python",
   "name": "python",
   "nbconvert_exporter": "python",
   "pygments_lexer": "ipython3",
   "version": "3.12.7"
  }
 },
 "nbformat": 4,
 "nbformat_minor": 5
}
