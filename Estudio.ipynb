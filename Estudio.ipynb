{
 "cells": [
  {
   "cell_type": "code",
   "execution_count": 1,
   "id": "244f3ba7-a6ba-45c8-b547-20612fbf6b21",
   "metadata": {},
   "outputs": [],
   "source": [
    "from sklearn.base import BaseEstimator, clone\n",
    "from sklearn.tree import DecisionTreeRegressor\n",
    "from sklearn.model_selection import train_test_split\n",
    "from sklearn.preprocessing import OrdinalEncoder\n",
    "from sklearn.metrics import r2_score\n",
    "from sklearn.model_selection import cross_validate\n",
    "import numpy as np\n",
    "import pandas as pd"
   ]
  },
  {
   "cell_type": "code",
   "execution_count": 2,
   "id": "08fe0d44-d5f5-48d7-a729-b33aa3431b57",
   "metadata": {},
   "outputs": [],
   "source": [
    "np.random.seed(357823)"
   ]
  },
  {
   "cell_type": "code",
   "execution_count": 3,
   "id": "83d67f87-25f9-4a42-b7b4-f8491eaabb5d",
   "metadata": {},
   "outputs": [],
   "source": [
    "def checkCondition(condition, message=None):\n",
    "    if (not condition):\n",
    "        raise Exception(message)"
   ]
  },
  {
   "cell_type": "code",
   "execution_count": 4,
   "id": "3d2b710e-4f8c-4222-8fa9-e3f5efcccce3",
   "metadata": {},
   "outputs": [],
   "source": [
    "class SequentialRegressor(BaseEstimator):\n",
    "    def __init__(self, estimator, n_estimators,\n",
    "                sample_size, lr, hyperparameters):\n",
    "        checkCondition(isinstance(estimator, BaseEstimator),\n",
    "                      \"Estimator must be an instance of Scikit-learn class\")\n",
    "        checkCondition(n_estimators >= 1, \"Number of estimators must be bigger or equals to 1\")\n",
    "        checkCondition(sample_size >= 0. and sample_size <= 1., \"The sample size must be between 0 and 1\")\n",
    "        self.estimator = estimator\n",
    "        self.n_estimators = n_estimators\n",
    "        self.sample_size = sample_size\n",
    "        self.lr = lr\n",
    "        self.hyperparameters = hyperparameters\n",
    "\n",
    "    def fit(self, attributes, objective):\n",
    "        attributes = np.asarray(attributes)\n",
    "        objective = np.asarray(objective).ravel()\n",
    "\n",
    "        rows = attributes.shape[0]\n",
    "        prediction = np.zeros(rows)\n",
    "        self.models = []\n",
    "\n",
    "        for i in range(self.n_estimators):\n",
    "            remainder_i = objective - prediction\n",
    "            n_samples_i = int(self.sample_size * rows)\n",
    "            selected = np.random.choice(rows, size=n_samples_i, replace=False)\n",
    "            samples_i = attributes[selected]\n",
    "            objective_i = remainder_i[selected]\n",
    "            model = clone(self.estimator)\n",
    "            model.set_params(**self.hyperparameters)\n",
    "            model.fit(samples_i, objective_i)\n",
    "            self.models.append(model)\n",
    "            prediction_i = model.predict(attributes)\n",
    "            prediction = prediction + self.lr * prediction_i\n",
    "        return self.models\n",
    "\n",
    "    def predict(self, attributes):\n",
    "        attributes = np.asarray(attributes)\n",
    "        \n",
    "        rows = attributes.shape[0]\n",
    "        predictions = np.zeros(rows)\n",
    "        for model in self.models:\n",
    "            predictions += self.lr * model.predict(attributes)\n",
    "        return predictions\n",
    "\n",
    "    def evaluate(self, attributes, objective, k):\n",
    "        checkCondition(k >= 1, \"The number of partitions must be bigger or equals to 1\")\n",
    "        results = cross_validate(self, attributes, objective, scoring=['r2', 'neg_root_mean_squared_error'], cv=k)\n",
    "        return {'r2': results['test_r2'].mean(), 'neg_root_mean_squared_error': results['test_neg_root_mean_squared_error'].mean()}"
   ]
  },
  {
   "cell_type": "markdown",
   "id": "2a64d656-c768-4141-ac6d-18a9e450f6b4",
   "metadata": {},
   "source": [
    "**Lectura y transformacíon de datos**"
   ]
  },
  {
   "cell_type": "code",
   "execution_count": 5,
   "id": "5f7737c0-c516-42a7-86c7-d44c5fe9e6a1",
   "metadata": {},
   "outputs": [
    {
     "data": {
      "text/html": [
       "<div>\n",
       "<style scoped>\n",
       "    .dataframe tbody tr th:only-of-type {\n",
       "        vertical-align: middle;\n",
       "    }\n",
       "\n",
       "    .dataframe tbody tr th {\n",
       "        vertical-align: top;\n",
       "    }\n",
       "\n",
       "    .dataframe thead th {\n",
       "        text-align: right;\n",
       "    }\n",
       "</style>\n",
       "<table border=\"1\" class=\"dataframe\">\n",
       "  <thead>\n",
       "    <tr style=\"text-align: right;\">\n",
       "      <th></th>\n",
       "      <th>GarageCars</th>\n",
       "      <th>Condition2</th>\n",
       "      <th>YearBuilt</th>\n",
       "      <th>GarageYrBlt</th>\n",
       "      <th>LandContour</th>\n",
       "      <th>LowQualFinSF</th>\n",
       "      <th>HouseStyle</th>\n",
       "      <th>GarageType</th>\n",
       "      <th>MSSubClass</th>\n",
       "      <th>WoodDeckSF</th>\n",
       "      <th>...</th>\n",
       "      <th>MiscVal</th>\n",
       "      <th>BsmtExposure</th>\n",
       "      <th>OpenPorchSF</th>\n",
       "      <th>ExterCond</th>\n",
       "      <th>Fireplaces</th>\n",
       "      <th>FullBath</th>\n",
       "      <th>BsmtQual</th>\n",
       "      <th>MiscFeature</th>\n",
       "      <th>PoolQC</th>\n",
       "      <th>SalePrice</th>\n",
       "    </tr>\n",
       "  </thead>\n",
       "  <tbody>\n",
       "    <tr>\n",
       "      <th>0</th>\n",
       "      <td>2</td>\n",
       "      <td>Norm</td>\n",
       "      <td>1962</td>\n",
       "      <td>1977.0</td>\n",
       "      <td>Lvl</td>\n",
       "      <td>0</td>\n",
       "      <td>1Story</td>\n",
       "      <td>Detchd</td>\n",
       "      <td>20</td>\n",
       "      <td>0</td>\n",
       "      <td>...</td>\n",
       "      <td>0</td>\n",
       "      <td>none</td>\n",
       "      <td>0</td>\n",
       "      <td>TA</td>\n",
       "      <td>0</td>\n",
       "      <td>1</td>\n",
       "      <td>TA</td>\n",
       "      <td>none</td>\n",
       "      <td>none</td>\n",
       "      <td>132000</td>\n",
       "    </tr>\n",
       "    <tr>\n",
       "      <th>1</th>\n",
       "      <td>0</td>\n",
       "      <td>Norm</td>\n",
       "      <td>1914</td>\n",
       "      <td>0.0</td>\n",
       "      <td>Lvl</td>\n",
       "      <td>0</td>\n",
       "      <td>2.5Unf</td>\n",
       "      <td>none</td>\n",
       "      <td>75</td>\n",
       "      <td>0</td>\n",
       "      <td>...</td>\n",
       "      <td>0</td>\n",
       "      <td>none</td>\n",
       "      <td>291</td>\n",
       "      <td>TA</td>\n",
       "      <td>1</td>\n",
       "      <td>2</td>\n",
       "      <td>TA</td>\n",
       "      <td>none</td>\n",
       "      <td>none</td>\n",
       "      <td>128000</td>\n",
       "    </tr>\n",
       "    <tr>\n",
       "      <th>2</th>\n",
       "      <td>2</td>\n",
       "      <td>Norm</td>\n",
       "      <td>1999</td>\n",
       "      <td>1999.0</td>\n",
       "      <td>Lvl</td>\n",
       "      <td>0</td>\n",
       "      <td>1Story</td>\n",
       "      <td>Attchd</td>\n",
       "      <td>20</td>\n",
       "      <td>0</td>\n",
       "      <td>...</td>\n",
       "      <td>0</td>\n",
       "      <td>Av</td>\n",
       "      <td>35</td>\n",
       "      <td>TA</td>\n",
       "      <td>0</td>\n",
       "      <td>2</td>\n",
       "      <td>Gd</td>\n",
       "      <td>none</td>\n",
       "      <td>none</td>\n",
       "      <td>192000</td>\n",
       "    </tr>\n",
       "    <tr>\n",
       "      <th>3</th>\n",
       "      <td>1</td>\n",
       "      <td>Norm</td>\n",
       "      <td>1948</td>\n",
       "      <td>1948.0</td>\n",
       "      <td>Bnk</td>\n",
       "      <td>0</td>\n",
       "      <td>2Story</td>\n",
       "      <td>Attchd</td>\n",
       "      <td>20</td>\n",
       "      <td>103</td>\n",
       "      <td>...</td>\n",
       "      <td>0</td>\n",
       "      <td>none</td>\n",
       "      <td>0</td>\n",
       "      <td>Gd</td>\n",
       "      <td>0</td>\n",
       "      <td>3</td>\n",
       "      <td>TA</td>\n",
       "      <td>none</td>\n",
       "      <td>none</td>\n",
       "      <td>225000</td>\n",
       "    </tr>\n",
       "    <tr>\n",
       "      <th>4</th>\n",
       "      <td>2</td>\n",
       "      <td>Norm</td>\n",
       "      <td>1950</td>\n",
       "      <td>1950.0</td>\n",
       "      <td>Lvl</td>\n",
       "      <td>0</td>\n",
       "      <td>1Story</td>\n",
       "      <td>Detchd</td>\n",
       "      <td>20</td>\n",
       "      <td>0</td>\n",
       "      <td>...</td>\n",
       "      <td>0</td>\n",
       "      <td>none</td>\n",
       "      <td>29</td>\n",
       "      <td>TA</td>\n",
       "      <td>0</td>\n",
       "      <td>1</td>\n",
       "      <td>none</td>\n",
       "      <td>none</td>\n",
       "      <td>none</td>\n",
       "      <td>109900</td>\n",
       "    </tr>\n",
       "  </tbody>\n",
       "</table>\n",
       "<p>5 rows × 38 columns</p>\n",
       "</div>"
      ],
      "text/plain": [
       "   GarageCars Condition2  YearBuilt  GarageYrBlt LandContour  LowQualFinSF  \\\n",
       "0           2       Norm       1962       1977.0         Lvl             0   \n",
       "1           0       Norm       1914          0.0         Lvl             0   \n",
       "2           2       Norm       1999       1999.0         Lvl             0   \n",
       "3           1       Norm       1948       1948.0         Bnk             0   \n",
       "4           2       Norm       1950       1950.0         Lvl             0   \n",
       "\n",
       "  HouseStyle GarageType  MSSubClass  WoodDeckSF  ... MiscVal  BsmtExposure  \\\n",
       "0     1Story     Detchd          20           0  ...       0          none   \n",
       "1     2.5Unf       none          75           0  ...       0          none   \n",
       "2     1Story     Attchd          20           0  ...       0            Av   \n",
       "3     2Story     Attchd          20         103  ...       0          none   \n",
       "4     1Story     Detchd          20           0  ...       0          none   \n",
       "\n",
       "  OpenPorchSF ExterCond  Fireplaces  FullBath BsmtQual  MiscFeature PoolQC  \\\n",
       "0           0        TA           0         1       TA         none   none   \n",
       "1         291        TA           1         2       TA         none   none   \n",
       "2          35        TA           0         2       Gd         none   none   \n",
       "3           0        Gd           0         3       TA         none   none   \n",
       "4          29        TA           0         1     none         none   none   \n",
       "\n",
       "  SalePrice  \n",
       "0    132000  \n",
       "1    128000  \n",
       "2    192000  \n",
       "3    225000  \n",
       "4    109900  \n",
       "\n",
       "[5 rows x 38 columns]"
      ]
     },
     "execution_count": 5,
     "metadata": {},
     "output_type": "execute_result"
    }
   ],
   "source": [
    "houses = pd.read_csv(\"house_prices.csv\")\n",
    "houses.head()"
   ]
  },
  {
   "cell_type": "code",
   "execution_count": 6,
   "id": "fbeb6f45-7f22-48d1-8787-5d3836954ee1",
   "metadata": {},
   "outputs": [],
   "source": [
    "atributos = houses.iloc[:,:-1]\n",
    "objetivo = houses.iloc[:,-1:]\n",
    "atributos_discretos = atributos.select_dtypes(include=['object', 'string']).columns\n",
    "encoder = OrdinalEncoder()\n",
    "encoder.fit(atributos[atributos_discretos])\n",
    "atributos[atributos_discretos] = encoder.transform(atributos[atributos_discretos])"
   ]
  },
  {
   "cell_type": "markdown",
   "id": "2ad663b9-0810-4d7c-a402-11a783fdbc28",
   "metadata": {},
   "source": [
    "**Pruebas de métodos**"
   ]
  },
  {
   "cell_type": "code",
   "execution_count": 7,
   "id": "4cd042a2-d234-43b2-a853-8f43427d2a2f",
   "metadata": {},
   "outputs": [],
   "source": [
    "hyperparameters = {\n",
    "    'max_depth' : 10\n",
    "}\n",
    "decisionTree = SequentialRegressor(DecisionTreeRegressor(), 4, 0.75, 0.5, hyperparameters)"
   ]
  },
  {
   "cell_type": "code",
   "execution_count": 8,
   "id": "81a9ce83-227c-485c-a3d2-118f3acfb15b",
   "metadata": {},
   "outputs": [
    {
     "name": "stdout",
     "output_type": "stream",
     "text": [
      "{'r2': 0.5935500945607923, 'neg_root_mean_squared_error': -48247.45397833455}\n"
     ]
    }
   ],
   "source": [
    "print(decisionTree.evaluate(atributos, objetivo, 10))"
   ]
  },
  {
   "cell_type": "code",
   "execution_count": 9,
   "id": "90d4dbd2-4d10-4601-a06c-788073d6e622",
   "metadata": {
    "scrolled": true
   },
   "outputs": [],
   "source": [
    "(atributos_entrenamiento, atributos_prueba,\n",
    " objetivo_entrenamiento, objetivo_prueba) = train_test_split(atributos, objetivo,test_size=.2)"
   ]
  },
  {
   "cell_type": "code",
   "execution_count": 10,
   "id": "4efeb211-319c-4673-aad4-d493e8caf187",
   "metadata": {},
   "outputs": [
    {
     "name": "stdout",
     "output_type": "stream",
     "text": [
      "0.6929053693008591\n"
     ]
    }
   ],
   "source": [
    "decisionTree = SequentialRegressor(DecisionTreeRegressor(), 4, 0.75, 0.5, hyperparameters)\n",
    "decisionTree.fit(atributos_entrenamiento, objetivo_entrenamiento)\n",
    "predictions = decisionTree.predict(atributos_prueba)\n",
    "print(r2_score(objetivo_prueba, predictions))"
   ]
  },
  {
   "cell_type": "code",
   "execution_count": 11,
   "id": "2cb7afa0-e105-4d3a-9ba9-131248797232",
   "metadata": {},
   "outputs": [
    {
     "name": "stdout",
     "output_type": "stream",
     "text": [
      "0.6735289601003858\n"
     ]
    }
   ],
   "source": [
    "comparar_tree = DecisionTreeRegressor(max_depth=10)\n",
    "comparar_tree.fit(atributos_entrenamiento, objetivo_entrenamiento)\n",
    "comparar_predictions = comparar_tree.predict(atributos_prueba)\n",
    "score2 = r2_score(objetivo_prueba, comparar_predictions)\n",
    "print(score2)"
   ]
  }
 ],
 "metadata": {
  "kernelspec": {
   "display_name": "Python 3 (ipykernel)",
   "language": "python",
   "name": "python3"
  },
  "language_info": {
   "codemirror_mode": {
    "name": "ipython",
    "version": 3
   },
   "file_extension": ".py",
   "mimetype": "text/x-python",
   "name": "python",
   "nbconvert_exporter": "python",
   "pygments_lexer": "ipython3",
   "version": "3.12.7"
  }
 },
 "nbformat": 4,
 "nbformat_minor": 5
}
